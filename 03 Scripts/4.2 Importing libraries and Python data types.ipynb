{
 "cells": [
  {
   "cell_type": "markdown",
   "id": "052d8420-6b8b-4524-9f18-086f7960c1dd",
   "metadata": {},
   "source": [
    "### Contents\n",
    "\n",
    "Library import\n",
    "\n",
    "Working with Python variables"
   ]
  },
  {
   "cell_type": "markdown",
   "id": "9196ddce-4a12-49e6-9bda-82baaf2140da",
   "metadata": {},
   "source": [
    "### Import Libraries"
   ]
  },
  {
   "cell_type": "code",
   "execution_count": 1,
   "id": "122917e8-4a42-494b-993c-5c750be9566f",
   "metadata": {},
   "outputs": [],
   "source": [
    "# import libraries\n",
    "import pandas as pd\n",
    "import numpy as np\n",
    "import os"
   ]
  },
  {
   "cell_type": "markdown",
   "id": "ab593669-73ba-49f5-927f-b0e48b9b1831",
   "metadata": {},
   "source": [
    "### Working with Python variables"
   ]
  },
  {
   "cell_type": "code",
   "execution_count": 2,
   "id": "5f029813-2d54-4f8a-be15-b2d941edc263",
   "metadata": {},
   "outputs": [],
   "source": [
    "a = 50"
   ]
  },
  {
   "cell_type": "code",
   "execution_count": 3,
   "id": "9b0e265d-a79c-4cc4-8307-d5eb8b8cb870",
   "metadata": {},
   "outputs": [],
   "source": [
    "b = 150"
   ]
  },
  {
   "cell_type": "code",
   "execution_count": 4,
   "id": "9cdb6b2a-d63a-4e72-9e66-0bd4f5a461ab",
   "metadata": {},
   "outputs": [],
   "source": [
    "c = 25"
   ]
  },
  {
   "cell_type": "code",
   "execution_count": 5,
   "id": "5e88be33-b660-4e3b-a293-85049a43ad66",
   "metadata": {},
   "outputs": [
    {
     "data": {
      "text/plain": [
       "100"
      ]
     },
     "execution_count": 5,
     "metadata": {},
     "output_type": "execute_result"
    }
   ],
   "source": [
    "a + a"
   ]
  },
  {
   "cell_type": "code",
   "execution_count": 6,
   "id": "24e87f83-bc10-4d22-8d78-10bd63b41ca2",
   "metadata": {},
   "outputs": [
    {
     "data": {
      "text/plain": [
       "100"
      ]
     },
     "execution_count": 6,
     "metadata": {},
     "output_type": "execute_result"
    }
   ],
   "source": [
    "b - a"
   ]
  },
  {
   "cell_type": "code",
   "execution_count": 7,
   "id": "d7def672-b8df-40f1-a9aa-772dc911620e",
   "metadata": {},
   "outputs": [
    {
     "data": {
      "text/plain": [
       "100"
      ]
     },
     "execution_count": 7,
     "metadata": {},
     "output_type": "execute_result"
    }
   ],
   "source": [
    "c * 4"
   ]
  },
  {
   "cell_type": "code",
   "execution_count": 8,
   "id": "0fedb4e4-6ee8-4ca9-8ef7-45f016a5b0cc",
   "metadata": {},
   "outputs": [],
   "source": [
    "d = 1.5"
   ]
  },
  {
   "cell_type": "code",
   "execution_count": 9,
   "id": "a7aec3cc-2446-474a-bf46-cff1d70c2e33",
   "metadata": {},
   "outputs": [],
   "source": [
    "e = 5.467"
   ]
  },
  {
   "cell_type": "code",
   "execution_count": 10,
   "id": "2034d0e0-af6c-4704-a071-04e1c6f25fb7",
   "metadata": {},
   "outputs": [
    {
     "data": {
      "text/plain": [
       "0.27437351381013353"
      ]
     },
     "execution_count": 10,
     "metadata": {},
     "output_type": "execute_result"
    }
   ],
   "source": [
    "d / e"
   ]
  },
  {
   "cell_type": "code",
   "execution_count": 11,
   "id": "4f1914d2-bd94-4a5d-bbbe-c75debbe08c8",
   "metadata": {},
   "outputs": [],
   "source": [
    "f = 'hum'"
   ]
  },
  {
   "cell_type": "code",
   "execution_count": 12,
   "id": "e73e89cf-0e27-4c92-a2d0-f62105468143",
   "metadata": {},
   "outputs": [],
   "source": [
    "g = 'an'"
   ]
  },
  {
   "cell_type": "code",
   "execution_count": 13,
   "id": "840df029-3f3b-4b35-b8d1-e90067c0447b",
   "metadata": {},
   "outputs": [
    {
     "data": {
      "text/plain": [
       "'human'"
      ]
     },
     "execution_count": 13,
     "metadata": {},
     "output_type": "execute_result"
    }
   ],
   "source": [
    "f + g"
   ]
  },
  {
   "cell_type": "code",
   "execution_count": 23,
   "id": "18d09af7-513b-4419-8f99-d2cd3d902ae0",
   "metadata": {},
   "outputs": [],
   "source": [
    "h = 'Hi. '"
   ]
  },
  {
   "cell_type": "code",
   "execution_count": 20,
   "id": "d9c03ee1-fa09-45d0-9857-961964da7679",
   "metadata": {},
   "outputs": [],
   "source": [
    "i = 'How'"
   ]
  },
  {
   "cell_type": "code",
   "execution_count": 17,
   "id": "71f4f587-f081-42d0-b992-748169609edf",
   "metadata": {},
   "outputs": [],
   "source": [
    "j = 'are'"
   ]
  },
  {
   "cell_type": "code",
   "execution_count": 21,
   "id": "f67b5d4e-b2b3-4be8-9bd7-358f9650a419",
   "metadata": {},
   "outputs": [],
   "source": [
    "k = 'you?'"
   ]
  },
  {
   "cell_type": "code",
   "execution_count": 24,
   "id": "4e6c4b78-420e-4df0-95ee-3ed2336f8bb8",
   "metadata": {},
   "outputs": [
    {
     "data": {
      "text/plain": [
       "'Hi. Howareyou?'"
      ]
     },
     "execution_count": 24,
     "metadata": {},
     "output_type": "execute_result"
    }
   ],
   "source": [
    "h + i + j + k"
   ]
  },
  {
   "cell_type": "code",
   "execution_count": 25,
   "id": "c495d21d-1e51-4bb5-84d6-8b6a1c0e267c",
   "metadata": {},
   "outputs": [
    {
     "data": {
      "text/plain": [
       "'Hi. Hi. Hi. Hi. Hi. Hi. Hi. Hi. Hi. Hi. Hi. Hi. Hi. Hi. Hi. Hi. Hi. Hi. Hi. Hi. Hi. Hi. Hi. Hi. Hi. Hi. Hi. Hi. Hi. Hi. Hi. Hi. Hi. Hi. Hi. Hi. Hi. Hi. Hi. Hi. Hi. Hi. Hi. Hi. Hi. Hi. Hi. Hi. Hi. Hi. Hi. Hi. Hi. Hi. Hi. Hi. Hi. Hi. Hi. Hi. Hi. Hi. Hi. Hi. Hi. Hi. Hi. Hi. Hi. Hi. Hi. Hi. Hi. Hi. Hi. Hi. Hi. Hi. Hi. Hi. Hi. Hi. Hi. Hi. Hi. Hi. Hi. Hi. Hi. Hi. Hi. Hi. Hi. Hi. Hi. Hi. Hi. Hi. Hi. Hi. '"
      ]
     },
     "execution_count": 25,
     "metadata": {},
     "output_type": "execute_result"
    }
   ],
   "source": [
    "h*100"
   ]
  },
  {
   "cell_type": "code",
   "execution_count": null,
   "id": "0c89b689-b949-4e34-afec-458f3c9ba061",
   "metadata": {},
   "outputs": [],
   "source": []
  }
 ],
 "metadata": {
  "kernelspec": {
   "display_name": "Python 3 (ipykernel)",
   "language": "python",
   "name": "python3"
  },
  "language_info": {
   "codemirror_mode": {
    "name": "ipython",
    "version": 3
   },
   "file_extension": ".py",
   "mimetype": "text/x-python",
   "name": "python",
   "nbconvert_exporter": "python",
   "pygments_lexer": "ipython3",
   "version": "3.10.9"
  }
 },
 "nbformat": 4,
 "nbformat_minor": 5
}
