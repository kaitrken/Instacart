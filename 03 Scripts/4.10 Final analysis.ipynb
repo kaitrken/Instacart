{
 "cells": [
  {
   "cell_type": "markdown",
   "id": "cdf9925e-dcd7-4371-868c-7fba8af8a1e7",
   "metadata": {
    "tags": []
   },
   "source": [
    "#### Contents\n",
    "Security implications\n",
    "\n",
    "Regional segmentation\n",
    "\n",
    "Regional spending\n",
    "\n",
    "Exlusion of low order customers\n",
    "\n",
    "Customer profiles\n",
    "\n",
    "Aggregation of customer profiles\n",
    "\n",
    "Regional comparisons\n",
    "\n",
    "Department comparisons\n",
    "\n",
    "Export charts\n",
    "\n",
    "Export data"
   ]
  },
  {
   "cell_type": "code",
   "execution_count": 37,
   "id": "4238aaca-6c0d-45db-b0da-e4564140fb89",
   "metadata": {},
   "outputs": [],
   "source": [
    "# import libraries\n",
    "import pandas as pd\n",
    "import numpy as np\n",
    "import os\n",
    "import matplotlib.pyplot as plt\n",
    "import seaborn as sns\n",
    "import scipy"
   ]
  },
  {
   "cell_type": "code",
   "execution_count": 2,
   "id": "b27c88d1-3cd0-4fad-93f6-cd0e324f2b3d",
   "metadata": {},
   "outputs": [],
   "source": [
    "path = r'/Users/kaitlinkendrick/Documents/Data Analysis/Instacart Basket Analysis'"
   ]
  },
  {
   "cell_type": "code",
   "execution_count": 3,
   "id": "141658d3-bbfe-4626-87df-0b59191c7ca5",
   "metadata": {},
   "outputs": [],
   "source": [
    "# import dataframe\n",
    "ords_merge = pd.read_pickle(os.path.join(path, '02 Data', 'Prepared Data', 'final_merged_data.pkl'))"
   ]
  },
  {
   "cell_type": "code",
   "execution_count": 4,
   "id": "b59c9976-55d3-4874-afda-136a637015fb",
   "metadata": {},
   "outputs": [],
   "source": [
    "# import department dictionary\n",
    "dept_dict = pd.read_csv(os.path.join(path, '02 Data', 'Prepared Data', 'departments_wrangled.csv'), index_col = 0)"
   ]
  },
  {
   "cell_type": "markdown",
   "id": "e1720bc0-a974-4697-bafc-c7d5560cde7e",
   "metadata": {},
   "source": [
    "### Security implications"
   ]
  },
  {
   "cell_type": "code",
   "execution_count": 5,
   "id": "1a3263a4-08c5-4f73-80a4-80b075a17cb0",
   "metadata": {},
   "outputs": [
    {
     "data": {
      "text/html": [
       "<div>\n",
       "<style scoped>\n",
       "    .dataframe tbody tr th:only-of-type {\n",
       "        vertical-align: middle;\n",
       "    }\n",
       "\n",
       "    .dataframe tbody tr th {\n",
       "        vertical-align: top;\n",
       "    }\n",
       "\n",
       "    .dataframe thead th {\n",
       "        text-align: right;\n",
       "    }\n",
       "</style>\n",
       "<table border=\"1\" class=\"dataframe\">\n",
       "  <thead>\n",
       "    <tr style=\"text-align: right;\">\n",
       "      <th></th>\n",
       "      <th>Unnamed: 0_x</th>\n",
       "      <th>product_id</th>\n",
       "      <th>product_name</th>\n",
       "      <th>aisle_id</th>\n",
       "      <th>department_id</th>\n",
       "      <th>prices</th>\n",
       "      <th>Unnamed: 0.1</th>\n",
       "      <th>Unnamed: 0_y</th>\n",
       "      <th>order_id</th>\n",
       "      <th>user_id</th>\n",
       "      <th>...</th>\n",
       "      <th>spender_type</th>\n",
       "      <th>order_frequency</th>\n",
       "      <th>frequency_flag</th>\n",
       "      <th>gender</th>\n",
       "      <th>state</th>\n",
       "      <th>age</th>\n",
       "      <th>date_joined</th>\n",
       "      <th>num_dependents</th>\n",
       "      <th>fam_status</th>\n",
       "      <th>income</th>\n",
       "    </tr>\n",
       "  </thead>\n",
       "  <tbody>\n",
       "    <tr>\n",
       "      <th>0</th>\n",
       "      <td>0</td>\n",
       "      <td>1</td>\n",
       "      <td>Chocolate Sandwich Cookies</td>\n",
       "      <td>61</td>\n",
       "      <td>19</td>\n",
       "      <td>5.8</td>\n",
       "      <td>1987</td>\n",
       "      <td>1987</td>\n",
       "      <td>3139998</td>\n",
       "      <td>138</td>\n",
       "      <td>...</td>\n",
       "      <td>Low spender</td>\n",
       "      <td>8.0</td>\n",
       "      <td>Frequent customer</td>\n",
       "      <td>Male</td>\n",
       "      <td>Minnesota</td>\n",
       "      <td>81</td>\n",
       "      <td>8/1/2019</td>\n",
       "      <td>1</td>\n",
       "      <td>married</td>\n",
       "      <td>49620</td>\n",
       "    </tr>\n",
       "    <tr>\n",
       "      <th>1</th>\n",
       "      <td>0</td>\n",
       "      <td>1</td>\n",
       "      <td>Chocolate Sandwich Cookies</td>\n",
       "      <td>61</td>\n",
       "      <td>19</td>\n",
       "      <td>5.8</td>\n",
       "      <td>1989</td>\n",
       "      <td>1989</td>\n",
       "      <td>1977647</td>\n",
       "      <td>138</td>\n",
       "      <td>...</td>\n",
       "      <td>Low spender</td>\n",
       "      <td>8.0</td>\n",
       "      <td>Frequent customer</td>\n",
       "      <td>Male</td>\n",
       "      <td>Minnesota</td>\n",
       "      <td>81</td>\n",
       "      <td>8/1/2019</td>\n",
       "      <td>1</td>\n",
       "      <td>married</td>\n",
       "      <td>49620</td>\n",
       "    </tr>\n",
       "    <tr>\n",
       "      <th>2</th>\n",
       "      <td>907</td>\n",
       "      <td>907</td>\n",
       "      <td>Premium Sliced Bacon</td>\n",
       "      <td>106</td>\n",
       "      <td>12</td>\n",
       "      <td>20.0</td>\n",
       "      <td>1960</td>\n",
       "      <td>1960</td>\n",
       "      <td>3160996</td>\n",
       "      <td>138</td>\n",
       "      <td>...</td>\n",
       "      <td>High spender</td>\n",
       "      <td>8.0</td>\n",
       "      <td>Frequent customer</td>\n",
       "      <td>Male</td>\n",
       "      <td>Minnesota</td>\n",
       "      <td>81</td>\n",
       "      <td>8/1/2019</td>\n",
       "      <td>1</td>\n",
       "      <td>married</td>\n",
       "      <td>49620</td>\n",
       "    </tr>\n",
       "    <tr>\n",
       "      <th>3</th>\n",
       "      <td>907</td>\n",
       "      <td>907</td>\n",
       "      <td>Premium Sliced Bacon</td>\n",
       "      <td>106</td>\n",
       "      <td>12</td>\n",
       "      <td>20.0</td>\n",
       "      <td>1969</td>\n",
       "      <td>1969</td>\n",
       "      <td>2254091</td>\n",
       "      <td>138</td>\n",
       "      <td>...</td>\n",
       "      <td>High spender</td>\n",
       "      <td>8.0</td>\n",
       "      <td>Frequent customer</td>\n",
       "      <td>Male</td>\n",
       "      <td>Minnesota</td>\n",
       "      <td>81</td>\n",
       "      <td>8/1/2019</td>\n",
       "      <td>1</td>\n",
       "      <td>married</td>\n",
       "      <td>49620</td>\n",
       "    </tr>\n",
       "    <tr>\n",
       "      <th>4</th>\n",
       "      <td>1000</td>\n",
       "      <td>1000</td>\n",
       "      <td>Apricots</td>\n",
       "      <td>18</td>\n",
       "      <td>10</td>\n",
       "      <td>12.9</td>\n",
       "      <td>1968</td>\n",
       "      <td>1968</td>\n",
       "      <td>505689</td>\n",
       "      <td>138</td>\n",
       "      <td>...</td>\n",
       "      <td>High spender</td>\n",
       "      <td>8.0</td>\n",
       "      <td>Frequent customer</td>\n",
       "      <td>Male</td>\n",
       "      <td>Minnesota</td>\n",
       "      <td>81</td>\n",
       "      <td>8/1/2019</td>\n",
       "      <td>1</td>\n",
       "      <td>married</td>\n",
       "      <td>49620</td>\n",
       "    </tr>\n",
       "  </tbody>\n",
       "</table>\n",
       "<p>5 rows × 33 columns</p>\n",
       "</div>"
      ],
      "text/plain": [
       "   Unnamed: 0_x  product_id                product_name  aisle_id  \\\n",
       "0             0           1  Chocolate Sandwich Cookies        61   \n",
       "1             0           1  Chocolate Sandwich Cookies        61   \n",
       "2           907         907        Premium Sliced Bacon       106   \n",
       "3           907         907        Premium Sliced Bacon       106   \n",
       "4          1000        1000                    Apricots        18   \n",
       "\n",
       "   department_id  prices  Unnamed: 0.1  Unnamed: 0_y  order_id  user_id  ...  \\\n",
       "0             19     5.8          1987          1987   3139998      138  ...   \n",
       "1             19     5.8          1989          1989   1977647      138  ...   \n",
       "2             12    20.0          1960          1960   3160996      138  ...   \n",
       "3             12    20.0          1969          1969   2254091      138  ...   \n",
       "4             10    12.9          1968          1968    505689      138  ...   \n",
       "\n",
       "   spender_type  order_frequency     frequency_flag  gender      state  age  \\\n",
       "0   Low spender              8.0  Frequent customer    Male  Minnesota   81   \n",
       "1   Low spender              8.0  Frequent customer    Male  Minnesota   81   \n",
       "2  High spender              8.0  Frequent customer    Male  Minnesota   81   \n",
       "3  High spender              8.0  Frequent customer    Male  Minnesota   81   \n",
       "4  High spender              8.0  Frequent customer    Male  Minnesota   81   \n",
       "\n",
       "   date_joined num_dependents fam_status income  \n",
       "0     8/1/2019              1    married  49620  \n",
       "1     8/1/2019              1    married  49620  \n",
       "2     8/1/2019              1    married  49620  \n",
       "3     8/1/2019              1    married  49620  \n",
       "4     8/1/2019              1    married  49620  \n",
       "\n",
       "[5 rows x 33 columns]"
      ]
     },
     "execution_count": 5,
     "metadata": {},
     "output_type": "execute_result"
    }
   ],
   "source": [
    "# address any PII in the data\n",
    "ords_merge.head()"
   ]
  },
  {
   "cell_type": "markdown",
   "id": "69e49ec6-74ca-4cc7-bd65-df9996f966ea",
   "metadata": {},
   "source": [
    "I previously deleted the names from the customer dataset as it was outside of the scope of the analysis. The remaining data doesn't include enough information to identify any customer without further information and should be secure. "
   ]
  },
  {
   "cell_type": "markdown",
   "id": "ab785e51-4c4a-482d-a163-33f01c80f094",
   "metadata": {},
   "source": [
    "### Regional Segmentation"
   ]
  },
  {
   "cell_type": "code",
   "execution_count": 6,
   "id": "0d2b2dc8-780a-4d7c-b4be-5b1920a29227",
   "metadata": {},
   "outputs": [
    {
     "data": {
      "text/plain": [
       "Index(['Unnamed: 0_x', 'product_id', 'product_name', 'aisle_id',\n",
       "       'department_id', 'prices', 'Unnamed: 0.1', 'Unnamed: 0_y', 'order_id',\n",
       "       'user_id', 'order_number', 'order_day_of_week', 'order_hour_of_day',\n",
       "       'days_since_previous_order', 't/f_days_since_previous_order',\n",
       "       'add_to_cart_order', 'reordered', '_merge', 'price_range_loc',\n",
       "       'busiest_days', 'busiest_period_of_day', 'max_order', 'loyalty_flag',\n",
       "       'spender_type', 'order_frequency', 'frequency_flag', 'gender', 'state',\n",
       "       'age', 'date_joined', 'num_dependents', 'fam_status', 'income'],\n",
       "      dtype='object')"
      ]
     },
     "execution_count": 6,
     "metadata": {},
     "output_type": "execute_result"
    }
   ],
   "source": [
    "ords_merge.columns"
   ]
  },
  {
   "cell_type": "code",
   "execution_count": 7,
   "id": "ed985292-16bc-40de-a6d9-3941f2089788",
   "metadata": {},
   "outputs": [],
   "source": [
    "# create regional segmentation of data, creating a new column 'region' based on existing 'state' column \n",
    "region = []\n",
    "for value in ords_merge['state']:\n",
    "    if (value == 'Maine') or (value == 'New Hampshire') or (value == 'Vermont') or (value == 'Massachusetts') or (value == 'Rhode Island') or (value == 'Connecticut') or (value == 'New York') or (value == 'Pennsylvania') or (value =='New Jersey'):\n",
    "        region.append('Northeast')\n",
    "    elif (value == 'Wisconsin') or (value == 'Michigan') or (value == 'Illinois') or (value == 'Indiana') or (value == 'Ohio') or (value == 'North Dakota') or (value == 'South Dakota') or (value == 'Nebraska') or (value == 'Kansas') or (value == 'Minnesota') or (value == 'Iowa') or (value == 'Missouri'):\n",
    "        region.append('Midwest')\n",
    "    elif (value == 'Idaho') or (value == 'Montana') or (value == 'Wyoming') or (value == 'Nevada') or (value == 'Utah') or (value == 'Colorado') or (value == 'Arizona') or (value == 'New Mexico') or (value == 'Alaska') or (value == 'Washington') or (value == 'Oregon') or (value == 'California') or (value == 'Hawaii'):\n",
    "        region.append('West')\n",
    "    else:\n",
    "        region.append('South')"
   ]
  },
  {
   "cell_type": "code",
   "execution_count": 8,
   "id": "7a11ea44-4e1d-4031-b7b6-3b3d8fb79510",
   "metadata": {},
   "outputs": [],
   "source": [
    "# create region column\n",
    "ords_merge['region'] = region"
   ]
  },
  {
   "cell_type": "code",
   "execution_count": 9,
   "id": "1cce5785-8b58-44ea-b0e4-8ee96602889c",
   "metadata": {},
   "outputs": [
    {
     "data": {
      "text/plain": [
       "South        10791885\n",
       "West          8292913\n",
       "Midwest       7597325\n",
       "Northeast     5722736\n",
       "Name: region, dtype: int64"
      ]
     },
     "execution_count": 9,
     "metadata": {},
     "output_type": "execute_result"
    }
   ],
   "source": [
    "ords_merge['region'].value_counts(dropna = False)"
   ]
  },
  {
   "cell_type": "code",
   "execution_count": 52,
   "id": "6896548a-e320-4ae9-8332-0e3986c67116",
   "metadata": {},
   "outputs": [
    {
     "data": {
      "image/png": "[encoded data removed]",
      "text/plain": [
       "<Figure size 640x480 with 1 Axes>"
      ]
     },
     "metadata": {},
     "output_type": "display_data"
    }
   ],
   "source": [
    "# bar chart of region column\n",
    "region_bar = ords_merge['region'].value_counts().plot.bar(rot = 0, color = ['blue', 'gold', 'purple', 'green'])"
   ]
  },
  {
   "cell_type": "markdown",
   "id": "ec750074-c12e-453f-ab39-e4c5eec62ca3",
   "metadata": {},
   "source": [
    "### Regional spending"
   ]
  },
  {
   "cell_type": "code",
   "execution_count": 11,
   "id": "9045ca8e-1e19-4ab3-bf26-a6717a411c42",
   "metadata": {},
   "outputs": [],
   "source": [
    "# check spending habits of regions\n",
    "spend_crosstab = pd.crosstab(ords_merge['region'], ords_merge['spender_type'], dropna = False)"
   ]
  },
  {
   "cell_type": "code",
   "execution_count": 12,
   "id": "6e89bebb-bbb2-447b-8ab3-699ce12d43ba",
   "metadata": {},
   "outputs": [
    {
     "data": {
      "text/html": [
       "<div>\n",
       "<style scoped>\n",
       "    .dataframe tbody tr th:only-of-type {\n",
       "        vertical-align: middle;\n",
       "    }\n",
       "\n",
       "    .dataframe tbody tr th {\n",
       "        vertical-align: top;\n",
       "    }\n",
       "\n",
       "    .dataframe thead th {\n",
       "        text-align: right;\n",
       "    }\n",
       "</style>\n",
       "<table border=\"1\" class=\"dataframe\">\n",
       "  <thead>\n",
       "    <tr style=\"text-align: right;\">\n",
       "      <th>spender_type</th>\n",
       "      <th>High spender</th>\n",
       "      <th>Low spender</th>\n",
       "    </tr>\n",
       "    <tr>\n",
       "      <th>region</th>\n",
       "      <th></th>\n",
       "      <th></th>\n",
       "    </tr>\n",
       "  </thead>\n",
       "  <tbody>\n",
       "    <tr>\n",
       "      <th>Midwest</th>\n",
       "      <td>2497034</td>\n",
       "      <td>5100291</td>\n",
       "    </tr>\n",
       "    <tr>\n",
       "      <th>Northeast</th>\n",
       "      <td>1875170</td>\n",
       "      <td>3847566</td>\n",
       "    </tr>\n",
       "    <tr>\n",
       "      <th>South</th>\n",
       "      <td>3549625</td>\n",
       "      <td>7242260</td>\n",
       "    </tr>\n",
       "    <tr>\n",
       "      <th>West</th>\n",
       "      <td>2722093</td>\n",
       "      <td>5570820</td>\n",
       "    </tr>\n",
       "  </tbody>\n",
       "</table>\n",
       "</div>"
      ],
      "text/plain": [
       "spender_type  High spender  Low spender\n",
       "region                                 \n",
       "Midwest            2497034      5100291\n",
       "Northeast          1875170      3847566\n",
       "South              3549625      7242260\n",
       "West               2722093      5570820"
      ]
     },
     "execution_count": 12,
     "metadata": {},
     "output_type": "execute_result"
    }
   ],
   "source": [
    "spend_crosstab"
   ]
  },
  {
   "cell_type": "code",
   "execution_count": 13,
   "id": "fda6e68c-5244-4814-8346-052498e0ea22",
   "metadata": {},
   "outputs": [
    {
     "data": {
      "image/png": "[encoded data removed]",
      "text/plain": [
       "<Figure size 640x480 with 1 Axes>"
      ]
     },
     "metadata": {},
     "output_type": "display_data"
    }
   ],
   "source": [
    "# create bar chart of spend_crosstab\n",
    "spend_bar = spend_crosstab.plot.bar(rot = 0, color = ['blue', 'gold'])"
   ]
  },
  {
   "cell_type": "markdown",
   "id": "f8e09963-099a-4891-bf90-7aab52e53ec4",
   "metadata": {},
   "source": [
    "### Exclusion of low order customers"
   ]
  },
  {
   "cell_type": "code",
   "execution_count": 14,
   "id": "d40d2453-00e6-4325-91db-08eb63eedc68",
   "metadata": {},
   "outputs": [],
   "source": [
    "# create exclusion flag for customers with less than 5 orders\n",
    "ords_merge.loc[ords_merge['order_frequency'] < 5, 'exclusion_flag'] = 'low order customer'"
   ]
  },
  {
   "cell_type": "code",
   "execution_count": 15,
   "id": "ef449a02-ba7b-4215-9896-e382432bf44f",
   "metadata": {},
   "outputs": [],
   "source": [
    "ords_merge.loc[ords_merge['order_frequency'] >=5, 'exclusion_flag'] = 'high order customer'"
   ]
  },
  {
   "cell_type": "code",
   "execution_count": 16,
   "id": "29614a32-0a86-4328-bb99-0f46c3f90687",
   "metadata": {},
   "outputs": [
    {
     "data": {
      "text/plain": [
       "high order customer    27811924\n",
       "low order customer      4592930\n",
       "NaN                           5\n",
       "Name: exclusion_flag, dtype: int64"
      ]
     },
     "execution_count": 16,
     "metadata": {},
     "output_type": "execute_result"
    }
   ],
   "source": [
    "ords_merge['exclusion_flag'].value_counts(dropna = False)"
   ]
  },
  {
   "cell_type": "code",
   "execution_count": 17,
   "id": "2e91bcc1-65e1-49e9-aa49-ffc04eb792bf",
   "metadata": {},
   "outputs": [
    {
     "data": {
      "text/plain": [
       "(32404859, 35)"
      ]
     },
     "execution_count": 17,
     "metadata": {},
     "output_type": "execute_result"
    }
   ],
   "source": [
    "ords_merge.shape"
   ]
  },
  {
   "cell_type": "code",
   "execution_count": 18,
   "id": "72c8c973-9578-426a-b733-498ea904bb4e",
   "metadata": {},
   "outputs": [],
   "source": [
    "low_order = ords_merge[ords_merge['exclusion_flag'] == 'low order customer']"
   ]
  },
  {
   "cell_type": "code",
   "execution_count": 19,
   "id": "6492fd76-efd9-42a7-af19-de92d5e81e00",
   "metadata": {},
   "outputs": [
    {
     "data": {
      "text/plain": [
       "(4592930, 35)"
      ]
     },
     "execution_count": 19,
     "metadata": {},
     "output_type": "execute_result"
    }
   ],
   "source": [
    "low_order.shape"
   ]
  },
  {
   "cell_type": "code",
   "execution_count": 20,
   "id": "415d42ae-43a2-4736-b9a0-701ea824e7c1",
   "metadata": {},
   "outputs": [],
   "source": [
    "high_order = ords_merge[ords_merge['exclusion_flag'] == 'high order customer']"
   ]
  },
  {
   "cell_type": "code",
   "execution_count": 21,
   "id": "077e4aba-efd8-40f9-8f7d-f55857c6a32b",
   "metadata": {},
   "outputs": [
    {
     "data": {
      "text/plain": [
       "(27811924, 35)"
      ]
     },
     "execution_count": 21,
     "metadata": {},
     "output_type": "execute_result"
    }
   ],
   "source": [
    "high_order.shape"
   ]
  },
  {
   "cell_type": "code",
   "execution_count": 22,
   "id": "f39d943b-af33-4154-9ad2-11dcb0aaffd0",
   "metadata": {},
   "outputs": [],
   "source": [
    "# export dataframe of only high order customers\n",
    "high_order.to_pickle(os.path.join (path, '02 Data', 'Prepared Data', 'high_order_customers.pkl'))"
   ]
  },
  {
   "cell_type": "markdown",
   "id": "99cf502d-4d85-4103-83a5-32063526b685",
   "metadata": {},
   "source": [
    "### Customer profiles"
   ]
  },
  {
   "cell_type": "code",
   "execution_count": 23,
   "id": "15d10180-7437-4cef-92c4-cbfac99c15b7",
   "metadata": {},
   "outputs": [
    {
     "data": {
      "text/html": [
       "<div>\n",
       "<style scoped>\n",
       "    .dataframe tbody tr th:only-of-type {\n",
       "        vertical-align: middle;\n",
       "    }\n",
       "\n",
       "    .dataframe tbody tr th {\n",
       "        vertical-align: top;\n",
       "    }\n",
       "\n",
       "    .dataframe thead th {\n",
       "        text-align: right;\n",
       "    }\n",
       "</style>\n",
       "<table border=\"1\" class=\"dataframe\">\n",
       "  <thead>\n",
       "    <tr style=\"text-align: right;\">\n",
       "      <th></th>\n",
       "      <th>department</th>\n",
       "    </tr>\n",
       "  </thead>\n",
       "  <tbody>\n",
       "    <tr>\n",
       "      <th>1</th>\n",
       "      <td>frozen</td>\n",
       "    </tr>\n",
       "    <tr>\n",
       "      <th>2</th>\n",
       "      <td>other</td>\n",
       "    </tr>\n",
       "    <tr>\n",
       "      <th>3</th>\n",
       "      <td>bakery</td>\n",
       "    </tr>\n",
       "    <tr>\n",
       "      <th>4</th>\n",
       "      <td>produce</td>\n",
       "    </tr>\n",
       "    <tr>\n",
       "      <th>5</th>\n",
       "      <td>alcohol</td>\n",
       "    </tr>\n",
       "    <tr>\n",
       "      <th>6</th>\n",
       "      <td>international</td>\n",
       "    </tr>\n",
       "    <tr>\n",
       "      <th>7</th>\n",
       "      <td>beverages</td>\n",
       "    </tr>\n",
       "    <tr>\n",
       "      <th>8</th>\n",
       "      <td>pets</td>\n",
       "    </tr>\n",
       "    <tr>\n",
       "      <th>9</th>\n",
       "      <td>dry goods pasta</td>\n",
       "    </tr>\n",
       "    <tr>\n",
       "      <th>10</th>\n",
       "      <td>bulk</td>\n",
       "    </tr>\n",
       "    <tr>\n",
       "      <th>11</th>\n",
       "      <td>personal care</td>\n",
       "    </tr>\n",
       "    <tr>\n",
       "      <th>12</th>\n",
       "      <td>meat seafood</td>\n",
       "    </tr>\n",
       "    <tr>\n",
       "      <th>13</th>\n",
       "      <td>pantry</td>\n",
       "    </tr>\n",
       "    <tr>\n",
       "      <th>14</th>\n",
       "      <td>breakfast</td>\n",
       "    </tr>\n",
       "    <tr>\n",
       "      <th>15</th>\n",
       "      <td>canned goods</td>\n",
       "    </tr>\n",
       "    <tr>\n",
       "      <th>16</th>\n",
       "      <td>dairy eggs</td>\n",
       "    </tr>\n",
       "    <tr>\n",
       "      <th>17</th>\n",
       "      <td>household</td>\n",
       "    </tr>\n",
       "    <tr>\n",
       "      <th>18</th>\n",
       "      <td>babies</td>\n",
       "    </tr>\n",
       "    <tr>\n",
       "      <th>19</th>\n",
       "      <td>snacks</td>\n",
       "    </tr>\n",
       "    <tr>\n",
       "      <th>20</th>\n",
       "      <td>deli</td>\n",
       "    </tr>\n",
       "    <tr>\n",
       "      <th>21</th>\n",
       "      <td>missing</td>\n",
       "    </tr>\n",
       "  </tbody>\n",
       "</table>\n",
       "</div>"
      ],
      "text/plain": [
       "         department\n",
       "1            frozen\n",
       "2             other\n",
       "3            bakery\n",
       "4           produce\n",
       "5           alcohol\n",
       "6     international\n",
       "7         beverages\n",
       "8              pets\n",
       "9   dry goods pasta\n",
       "10             bulk\n",
       "11    personal care\n",
       "12     meat seafood\n",
       "13           pantry\n",
       "14        breakfast\n",
       "15     canned goods\n",
       "16       dairy eggs\n",
       "17        household\n",
       "18           babies\n",
       "19           snacks\n",
       "20             deli\n",
       "21          missing"
      ]
     },
     "execution_count": 23,
     "metadata": {},
     "output_type": "execute_result"
    }
   ],
   "source": [
    "# check dept_dict\n",
    "dept_dict"
   ]
  },
  {
   "cell_type": "markdown",
   "id": "25b7b1f5-18c9-4518-91b6-06a69a531612",
   "metadata": {},
   "source": [
    "customers purchasing from dept 18, with >= 1 dependent = 'New parent'"
   ]
  },
  {
   "cell_type": "markdown",
   "id": "514e5c6f-db58-4282-912b-a3af27f55ec7",
   "metadata": {},
   "source": [
    "customers aged <25, w/ no dependents = 'single adult'"
   ]
  },
  {
   "cell_type": "markdown",
   "id": "2252b3af-6992-400d-8858-85146ad726b9",
   "metadata": {},
   "source": [
    "customers aged 18-30 = 'young adult'"
   ]
  },
  {
   "cell_type": "markdown",
   "id": "0eb37d8e-f182-48eb-9504-62281047553b",
   "metadata": {},
   "source": [
    "customers aged 30-65 = 'adult'"
   ]
  },
  {
   "cell_type": "markdown",
   "id": "a0f45285-f875-4cf4-a9a0-46f94e938b20",
   "metadata": {},
   "source": [
    "customers w/ >=1 dependent, age <=40, and income <=45k = 'single parent'"
   ]
  },
  {
   "cell_type": "markdown",
   "id": "4bbb8761-344f-459d-8fc6-b3584615c7e0",
   "metadata": {},
   "source": [
    "customers aged 65+ w/ 0 dependents = 'Retired adult'"
   ]
  },
  {
   "cell_type": "code",
   "execution_count": 24,
   "id": "b5c35948-1a77-4d9a-94c5-13aa5b5db711",
   "metadata": {},
   "outputs": [],
   "source": [
    "# create profiling variables based on above categories\n",
    "ords_merge.loc[(ords_merge['department_id'] == 18) & (ords_merge['num_dependents'] >=1), 'parent_profile'] = 'New Parent'"
   ]
  },
  {
   "cell_type": "code",
   "execution_count": 25,
   "id": "c5f440c9-bbea-4179-916a-93b653bfb36b",
   "metadata": {},
   "outputs": [],
   "source": [
    "ords_merge.loc[(ords_merge['age'] <25) & (ords_merge['num_dependents'] ==0), 'parent_profile'] = 'Single Adult'"
   ]
  },
  {
   "cell_type": "code",
   "execution_count": 26,
   "id": "fd296273-d723-4441-a940-354840733409",
   "metadata": {},
   "outputs": [],
   "source": [
    "ords_merge.loc[(ords_merge['age'] >=18) & (ords_merge['age'] <=30), 'age_profile'] = 'Young Adult'"
   ]
  },
  {
   "cell_type": "code",
   "execution_count": 27,
   "id": "6a45449b-7e02-4866-bd55-587ecedafd2e",
   "metadata": {},
   "outputs": [],
   "source": [
    "ords_merge.loc[(ords_merge['age'] >30) & (ords_merge['age'] <=65), 'age_profile'] = 'Adult'"
   ]
  },
  {
   "cell_type": "code",
   "execution_count": 28,
   "id": "7361f3d1-bd72-4498-b986-0e814c34cf0b",
   "metadata": {},
   "outputs": [],
   "source": [
    "ords_merge.loc[(ords_merge['num_dependents'] >=1) & (ords_merge['age'] <=40) & (ords_merge['income'] <=45000), 'parent_profile'] = 'Single Parent'"
   ]
  },
  {
   "cell_type": "code",
   "execution_count": 29,
   "id": "6c6bdee1-e78e-4eb3-99fb-9945314a7386",
   "metadata": {},
   "outputs": [],
   "source": [
    "ords_merge.loc[(ords_merge['num_dependents'] ==0) & (ords_merge['age'] >65), 'age_profile'] = 'Retired Adult'"
   ]
  },
  {
   "cell_type": "code",
   "execution_count": 48,
   "id": "41837ce8-465a-48a5-a558-11ada8331c95",
   "metadata": {},
   "outputs": [
    {
     "data": {
      "image/png": "[encoded data removed]",
      "text/plain": [
       "<Figure size 640x480 with 1 Axes>"
      ]
     },
     "metadata": {},
     "output_type": "display_data"
    }
   ],
   "source": [
    "# create visualization showing distribution of profiles\n",
    "parent_profiles_distribution = ords_merge['parent_profile'].value_counts().plot.bar(rot = 0, color = ['gold', 'blue', 'green'])"
   ]
  },
  {
   "cell_type": "code",
   "execution_count": 47,
   "id": "6060e7f4-4675-4bb6-b957-440892513dda",
   "metadata": {},
   "outputs": [
    {
     "data": {
      "image/png": "[encoded data removed]",
      "text/plain": [
       "<Figure size 640x480 with 1 Axes>"
      ]
     },
     "metadata": {},
     "output_type": "display_data"
    }
   ],
   "source": [
    "age_profiles_distribution = ords_merge['age_profile'].value_counts().plot.bar(rot = 0, color = ['gold', 'blue', 'green'])"
   ]
  },
  {
   "cell_type": "markdown",
   "id": "694dc8c2-801c-4c19-a70d-7319b827eb56",
   "metadata": {},
   "source": [
    "### Aggregation of customer profiles"
   ]
  },
  {
   "cell_type": "code",
   "execution_count": null,
   "id": "4dd43e2c-131f-438f-aab1-135a5652e0d1",
   "metadata": {},
   "outputs": [],
   "source": [
    "# Aggregate the max, mean, and min variables on a customer-profile level for usage frequency\n",
    "ords_merge.groupby('profile').agg({'days_since_previous_order': ['max', 'min', 'mean']})"
   ]
  },
  {
   "cell_type": "code",
   "execution_count": null,
   "id": "afda5e43-ef07-4e7c-83b6-729493e77137",
   "metadata": {},
   "outputs": [],
   "source": [
    "# Aggregate the max, mean, and min variables on a customer-profile level for expenditure\n",
    "ords_merge.groupby('profile').agg({'prices': ['max', 'min', 'mean']})"
   ]
  },
  {
   "cell_type": "markdown",
   "id": "20540894-7d8b-4524-b944-ae1150865608",
   "metadata": {},
   "source": [
    "### Regional comparisons"
   ]
  },
  {
   "cell_type": "code",
   "execution_count": null,
   "id": "da2e7066-7b6f-4312-bea4-713760e4a27c",
   "metadata": {},
   "outputs": [],
   "source": [
    "# compare profiles w/ regions\n",
    "regional_profiles = pd.crosstab(ords_merge['profile'], ords_merge['region'], dropna = False)"
   ]
  },
  {
   "cell_type": "code",
   "execution_count": null,
   "id": "0ea12763-1495-4eb7-acbd-9bd40f0e105a",
   "metadata": {},
   "outputs": [],
   "source": [
    "regional_profiles"
   ]
  },
  {
   "cell_type": "code",
   "execution_count": null,
   "id": "1173d4b4-a1a4-4f85-8445-651629a53be3",
   "metadata": {},
   "outputs": [],
   "source": [
    "reg_prof_bar = regional_profiles.plot.bar(rot = 0, color = ['blue', 'gold', 'purple', 'green'])"
   ]
  },
  {
   "cell_type": "markdown",
   "id": "962f5162-870e-4ecd-b6be-b2d74b61dc00",
   "metadata": {},
   "source": [
    "### Department comparisons"
   ]
  },
  {
   "cell_type": "code",
   "execution_count": null,
   "id": "83b1a5c8-f1b8-4a21-b29c-5870150f0b61",
   "metadata": {},
   "outputs": [],
   "source": [
    "# compare profiles w/ departments\n",
    "department_profiles = pd.crosstab(ords_merge['department_id'], ords_merge['profile'], dropna = False)"
   ]
  },
  {
   "cell_type": "code",
   "execution_count": null,
   "id": "87a0e173-eab4-4206-bde6-35357e230f1c",
   "metadata": {},
   "outputs": [],
   "source": [
    "department_profiles"
   ]
  },
  {
   "cell_type": "code",
   "execution_count": null,
   "id": "bbb1ec03-6ff1-472e-abb4-fc55dcd4b7f3",
   "metadata": {},
   "outputs": [],
   "source": [
    "dept_prof_bar = department_profiles.plot.bar(rot = 0, color = ['blue', 'gold', 'purple', 'green', 'orange'])"
   ]
  },
  {
   "cell_type": "markdown",
   "id": "26cd78f8-8672-44d3-bb24-3abb8c93fc06",
   "metadata": {},
   "source": [
    "### Export charts"
   ]
  },
  {
   "cell_type": "code",
   "execution_count": 53,
   "id": "2d5f8caf-b04e-40a8-82bd-de49ba153f57",
   "metadata": {},
   "outputs": [],
   "source": [
    "region_bar.figure.savefig(os.path.join (path, '04 Analysis', 'Visualizations', 'region_bar.png'))"
   ]
  },
  {
   "cell_type": "code",
   "execution_count": null,
   "id": "e3ac58e1-dc2e-456a-ad88-b446761d6560",
   "metadata": {},
   "outputs": [],
   "source": [
    "spend_bar.figure.savefig(os.path.join (path, '04 Analysis', 'Visualizations', 'spend_bar.png'))"
   ]
  },
  {
   "cell_type": "code",
   "execution_count": null,
   "id": "1736fcd8-f413-46ef-9728-e6712b19f2a4",
   "metadata": {},
   "outputs": [],
   "source": [
    "profiles_distribution.figure.savefig(os.path.join (path, '04 Analysis', 'Visualizations', 'profiles_distribution.png'))"
   ]
  },
  {
   "cell_type": "code",
   "execution_count": null,
   "id": "aa45b42a-d63a-475a-a923-eb8c7e4469e8",
   "metadata": {},
   "outputs": [],
   "source": [
    "reg_prof_bar.figure.savefig(os.path.join (path, '04 Analysis', 'Visualizations', 'region_profile.png'))"
   ]
  },
  {
   "cell_type": "code",
   "execution_count": null,
   "id": "e756ca88-c0cf-42c3-81a3-b9dd3583962f",
   "metadata": {},
   "outputs": [],
   "source": [
    "dept_prof_bar.figure.savefig(os.path.join (path, '04 Analysis', 'Visualizations', 'department_profile.png'))"
   ]
  },
  {
   "cell_type": "code",
   "execution_count": 49,
   "id": "ad49c873-689f-46a9-9242-3fac74844934",
   "metadata": {},
   "outputs": [],
   "source": [
    "parent_profiles_distribution.figure.savefig(os.path.join (path, '04 Analysis', 'Visualizations', 'parent_profiles.png'))"
   ]
  },
  {
   "cell_type": "code",
   "execution_count": 50,
   "id": "5bdd9b7c-d011-4cb3-857c-366b668d6752",
   "metadata": {},
   "outputs": [],
   "source": [
    "age_profiles_distribution.figure.savefig(os.path.join (path, '04 Analysis', 'Visualizations', 'age_profiles.png'))"
   ]
  },
  {
   "cell_type": "markdown",
   "id": "c56b0285-e29c-476b-8346-1bce57530c92",
   "metadata": {},
   "source": [
    "### Export data"
   ]
  },
  {
   "cell_type": "code",
   "execution_count": null,
   "id": "5faedb8a-811f-4745-9ede-b2a8fd093ae6",
   "metadata": {},
   "outputs": [],
   "source": [
    "ords_merge.to_pickle(os.path.join (path, '02 Data', 'Prepared Data', 'orders_products_all.pkl'))"
   ]
  },
  {
   "cell_type": "code",
   "execution_count": null,
   "id": "b91971f4-8577-454c-85a7-9468dcccff13",
   "metadata": {},
   "outputs": [],
   "source": []
  }
 ],
 "metadata": {
  "kernelspec": {
   "display_name": "Python 3 (ipykernel)",
   "language": "python",
   "name": "python3"
  },
  "language_info": {
   "codemirror_mode": {
    "name": "ipython",
    "version": 3
   },
   "file_extension": ".py",
   "mimetype": "text/x-python",
   "name": "python",
   "nbconvert_exporter": "python",
   "pygments_lexer": "ipython3",
   "version": "3.10.9"
  }
 },
 "nbformat": 4,
 "nbformat_minor": 5
}
