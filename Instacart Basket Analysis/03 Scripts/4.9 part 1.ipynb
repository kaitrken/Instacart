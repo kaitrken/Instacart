{
 "cells": [
  {
   "cell_type": "markdown",
   "id": "2ad32ab9-78c2-47a2-982e-c69e8bc4d6e1",
   "metadata": {},
   "source": [
    "### Contents\n",
    "\n",
    "Import data\n",
    "\n",
    "Explore/wrangle cust data\n",
    "\n",
    "Merge cust data with ords_prods\n",
    "\n",
    "Export data"
   ]
  },
  {
   "cell_type": "markdown",
   "id": "f0d816ec-c9e7-42de-94a1-733040aac2d8",
   "metadata": {},
   "source": [
    "### Import data"
   ]
  },
  {
   "cell_type": "code",
   "execution_count": 2,
   "id": "78b32725-526d-48f8-ba1c-e15b73b276d0",
   "metadata": {},
   "outputs": [],
   "source": [
    "# import libraries\n",
    "import pandas as pd\n",
    "import numpy as np\n",
    "import os"
   ]
  },
  {
   "cell_type": "code",
   "execution_count": 3,
   "id": "0030cdda-960f-4838-bb4e-c4a2871439c7",
   "metadata": {},
   "outputs": [],
   "source": [
    "path = r'/Users/kaitlinkendrick/Documents/Data Analysis/Instacart Basket Analysis'"
   ]
  },
  {
   "cell_type": "code",
   "execution_count": 4,
   "id": "6613cb63-92a6-493d-8132-affc40090eed",
   "metadata": {},
   "outputs": [],
   "source": [
    "# import dataframe\n",
    "cust = pd.read_csv(os.path.join(path, '02 Data', 'Original Data', 'customers.csv'), index_col = False)"
   ]
  },
  {
   "cell_type": "code",
   "execution_count": 28,
   "id": "0ebd63bd-d2ba-453c-bd2d-c328f651cba0",
   "metadata": {},
   "outputs": [],
   "source": [
    "ords_prods = pd.read_pickle(os.path.join(path, '02 Data', 'Prepared Data', 'orders_products_aggregated.pkl'))"
   ]
  },
  {
   "cell_type": "markdown",
   "id": "06b0bcab-8528-498b-b2aa-af575fb5821a",
   "metadata": {},
   "source": [
    "### Explore/wrangle cust data"
   ]
  },
  {
   "cell_type": "code",
   "execution_count": 5,
   "id": "dcad2611-551c-4579-b32b-2b06901f3be0",
   "metadata": {},
   "outputs": [
    {
     "data": {
      "text/html": [
       "<div>\n",
       "<style scoped>\n",
       "    .dataframe tbody tr th:only-of-type {\n",
       "        vertical-align: middle;\n",
       "    }\n",
       "\n",
       "    .dataframe tbody tr th {\n",
       "        vertical-align: top;\n",
       "    }\n",
       "\n",
       "    .dataframe thead th {\n",
       "        text-align: right;\n",
       "    }\n",
       "</style>\n",
       "<table border=\"1\" class=\"dataframe\">\n",
       "  <thead>\n",
       "    <tr style=\"text-align: right;\">\n",
       "      <th></th>\n",
       "      <th>user_id</th>\n",
       "      <th>First Name</th>\n",
       "      <th>Surnam</th>\n",
       "      <th>Gender</th>\n",
       "      <th>STATE</th>\n",
       "      <th>Age</th>\n",
       "      <th>date_joined</th>\n",
       "      <th>n_dependants</th>\n",
       "      <th>fam_status</th>\n",
       "      <th>income</th>\n",
       "    </tr>\n",
       "  </thead>\n",
       "  <tbody>\n",
       "    <tr>\n",
       "      <th>0</th>\n",
       "      <td>26711</td>\n",
       "      <td>Deborah</td>\n",
       "      <td>Esquivel</td>\n",
       "      <td>Female</td>\n",
       "      <td>Missouri</td>\n",
       "      <td>48</td>\n",
       "      <td>1/1/2017</td>\n",
       "      <td>3</td>\n",
       "      <td>married</td>\n",
       "      <td>165665</td>\n",
       "    </tr>\n",
       "    <tr>\n",
       "      <th>1</th>\n",
       "      <td>33890</td>\n",
       "      <td>Patricia</td>\n",
       "      <td>Hart</td>\n",
       "      <td>Female</td>\n",
       "      <td>New Mexico</td>\n",
       "      <td>36</td>\n",
       "      <td>1/1/2017</td>\n",
       "      <td>0</td>\n",
       "      <td>single</td>\n",
       "      <td>59285</td>\n",
       "    </tr>\n",
       "    <tr>\n",
       "      <th>2</th>\n",
       "      <td>65803</td>\n",
       "      <td>Kenneth</td>\n",
       "      <td>Farley</td>\n",
       "      <td>Male</td>\n",
       "      <td>Idaho</td>\n",
       "      <td>35</td>\n",
       "      <td>1/1/2017</td>\n",
       "      <td>2</td>\n",
       "      <td>married</td>\n",
       "      <td>99568</td>\n",
       "    </tr>\n",
       "    <tr>\n",
       "      <th>3</th>\n",
       "      <td>125935</td>\n",
       "      <td>Michelle</td>\n",
       "      <td>Hicks</td>\n",
       "      <td>Female</td>\n",
       "      <td>Iowa</td>\n",
       "      <td>40</td>\n",
       "      <td>1/1/2017</td>\n",
       "      <td>0</td>\n",
       "      <td>single</td>\n",
       "      <td>42049</td>\n",
       "    </tr>\n",
       "    <tr>\n",
       "      <th>4</th>\n",
       "      <td>130797</td>\n",
       "      <td>Ann</td>\n",
       "      <td>Gilmore</td>\n",
       "      <td>Female</td>\n",
       "      <td>Maryland</td>\n",
       "      <td>26</td>\n",
       "      <td>1/1/2017</td>\n",
       "      <td>1</td>\n",
       "      <td>married</td>\n",
       "      <td>40374</td>\n",
       "    </tr>\n",
       "  </tbody>\n",
       "</table>\n",
       "</div>"
      ],
      "text/plain": [
       "   user_id First Name    Surnam  Gender       STATE  Age date_joined  \\\n",
       "0    26711    Deborah  Esquivel  Female    Missouri   48    1/1/2017   \n",
       "1    33890   Patricia      Hart  Female  New Mexico   36    1/1/2017   \n",
       "2    65803    Kenneth    Farley    Male       Idaho   35    1/1/2017   \n",
       "3   125935   Michelle     Hicks  Female        Iowa   40    1/1/2017   \n",
       "4   130797        Ann   Gilmore  Female    Maryland   26    1/1/2017   \n",
       "\n",
       "   n_dependants fam_status  income  \n",
       "0             3    married  165665  \n",
       "1             0     single   59285  \n",
       "2             2    married   99568  \n",
       "3             0     single   42049  \n",
       "4             1    married   40374  "
      ]
     },
     "execution_count": 5,
     "metadata": {},
     "output_type": "execute_result"
    }
   ],
   "source": [
    "# basic exploration of data\n",
    "cust.head()"
   ]
  },
  {
   "cell_type": "code",
   "execution_count": 6,
   "id": "29ec0f7e-9e0b-4064-ac1a-ea2e21f0e206",
   "metadata": {},
   "outputs": [
    {
     "data": {
      "text/plain": [
       "Index(['user_id', 'First Name', 'Surnam', 'Gender', 'STATE', 'Age',\n",
       "       'date_joined', 'n_dependants', 'fam_status', 'income'],\n",
       "      dtype='object')"
      ]
     },
     "execution_count": 6,
     "metadata": {},
     "output_type": "execute_result"
    }
   ],
   "source": [
    "cust.columns"
   ]
  },
  {
   "cell_type": "code",
   "execution_count": 7,
   "id": "03cdfdda-ef22-4b96-8211-dbd0a780b0d6",
   "metadata": {},
   "outputs": [
    {
     "data": {
      "text/plain": [
       "(206209, 10)"
      ]
     },
     "execution_count": 7,
     "metadata": {},
     "output_type": "execute_result"
    }
   ],
   "source": [
    "cust.shape"
   ]
  },
  {
   "cell_type": "code",
   "execution_count": 8,
   "id": "0ccbeb20-187e-468c-b7af-003ebfab8bd3",
   "metadata": {},
   "outputs": [
    {
     "name": "stdout",
     "output_type": "stream",
     "text": [
      "<class 'pandas.core.frame.DataFrame'>\n",
      "RangeIndex: 206209 entries, 0 to 206208\n",
      "Data columns (total 10 columns):\n",
      " #   Column        Non-Null Count   Dtype \n",
      "---  ------        --------------   ----- \n",
      " 0   user_id       206209 non-null  int64 \n",
      " 1   First Name    194950 non-null  object\n",
      " 2   Surnam        206209 non-null  object\n",
      " 3   Gender        206209 non-null  object\n",
      " 4   STATE         206209 non-null  object\n",
      " 5   Age           206209 non-null  int64 \n",
      " 6   date_joined   206209 non-null  object\n",
      " 7   n_dependants  206209 non-null  int64 \n",
      " 8   fam_status    206209 non-null  object\n",
      " 9   income        206209 non-null  int64 \n",
      "dtypes: int64(4), object(6)\n",
      "memory usage: 15.7+ MB\n"
     ]
    }
   ],
   "source": [
    "# check column types\n",
    "cust.info()"
   ]
  },
  {
   "cell_type": "code",
   "execution_count": 9,
   "id": "a0f27c8e-a4be-4162-af43-213ff8d5b80a",
   "metadata": {},
   "outputs": [
    {
     "data": {
      "text/html": [
       "<div>\n",
       "<style scoped>\n",
       "    .dataframe tbody tr th:only-of-type {\n",
       "        vertical-align: middle;\n",
       "    }\n",
       "\n",
       "    .dataframe tbody tr th {\n",
       "        vertical-align: top;\n",
       "    }\n",
       "\n",
       "    .dataframe thead th {\n",
       "        text-align: right;\n",
       "    }\n",
       "</style>\n",
       "<table border=\"1\" class=\"dataframe\">\n",
       "  <thead>\n",
       "    <tr style=\"text-align: right;\">\n",
       "      <th></th>\n",
       "      <th>user_id</th>\n",
       "      <th>Age</th>\n",
       "      <th>n_dependants</th>\n",
       "      <th>income</th>\n",
       "    </tr>\n",
       "  </thead>\n",
       "  <tbody>\n",
       "    <tr>\n",
       "      <th>count</th>\n",
       "      <td>206209.000000</td>\n",
       "      <td>206209.000000</td>\n",
       "      <td>206209.000000</td>\n",
       "      <td>206209.000000</td>\n",
       "    </tr>\n",
       "    <tr>\n",
       "      <th>mean</th>\n",
       "      <td>103105.000000</td>\n",
       "      <td>49.501646</td>\n",
       "      <td>1.499823</td>\n",
       "      <td>94632.852548</td>\n",
       "    </tr>\n",
       "    <tr>\n",
       "      <th>std</th>\n",
       "      <td>59527.555167</td>\n",
       "      <td>18.480962</td>\n",
       "      <td>1.118433</td>\n",
       "      <td>42473.786988</td>\n",
       "    </tr>\n",
       "    <tr>\n",
       "      <th>min</th>\n",
       "      <td>1.000000</td>\n",
       "      <td>18.000000</td>\n",
       "      <td>0.000000</td>\n",
       "      <td>25903.000000</td>\n",
       "    </tr>\n",
       "    <tr>\n",
       "      <th>25%</th>\n",
       "      <td>51553.000000</td>\n",
       "      <td>33.000000</td>\n",
       "      <td>0.000000</td>\n",
       "      <td>59874.000000</td>\n",
       "    </tr>\n",
       "    <tr>\n",
       "      <th>50%</th>\n",
       "      <td>103105.000000</td>\n",
       "      <td>49.000000</td>\n",
       "      <td>1.000000</td>\n",
       "      <td>93547.000000</td>\n",
       "    </tr>\n",
       "    <tr>\n",
       "      <th>75%</th>\n",
       "      <td>154657.000000</td>\n",
       "      <td>66.000000</td>\n",
       "      <td>3.000000</td>\n",
       "      <td>124244.000000</td>\n",
       "    </tr>\n",
       "    <tr>\n",
       "      <th>max</th>\n",
       "      <td>206209.000000</td>\n",
       "      <td>81.000000</td>\n",
       "      <td>3.000000</td>\n",
       "      <td>593901.000000</td>\n",
       "    </tr>\n",
       "  </tbody>\n",
       "</table>\n",
       "</div>"
      ],
      "text/plain": [
       "             user_id            Age   n_dependants         income\n",
       "count  206209.000000  206209.000000  206209.000000  206209.000000\n",
       "mean   103105.000000      49.501646       1.499823   94632.852548\n",
       "std     59527.555167      18.480962       1.118433   42473.786988\n",
       "min         1.000000      18.000000       0.000000   25903.000000\n",
       "25%     51553.000000      33.000000       0.000000   59874.000000\n",
       "50%    103105.000000      49.000000       1.000000   93547.000000\n",
       "75%    154657.000000      66.000000       3.000000  124244.000000\n",
       "max    206209.000000      81.000000       3.000000  593901.000000"
      ]
     },
     "execution_count": 9,
     "metadata": {},
     "output_type": "execute_result"
    }
   ],
   "source": [
    "# check for unexpected values\n",
    "cust.describe()"
   ]
  },
  {
   "cell_type": "markdown",
   "id": "4b47f505-8052-4f1e-bf3f-db4ea2aec67d",
   "metadata": {},
   "source": [
    "ensure all columns are named w/ all lowercase to be consistent, rename n_dependents to num_dependents to make clear, delete surname and first name columns as names aren't necessary for the analysis"
   ]
  },
  {
   "cell_type": "code",
   "execution_count": 10,
   "id": "9742da0f-e781-4ad3-adce-04cec5b062e1",
   "metadata": {},
   "outputs": [],
   "source": [
    "# rename columns\n",
    "cust.rename(columns = {'Gender':'gender'}, inplace = True)"
   ]
  },
  {
   "cell_type": "code",
   "execution_count": 11,
   "id": "43daedf9-e6e9-45ae-bd64-e437d043e973",
   "metadata": {},
   "outputs": [],
   "source": [
    "cust.rename(columns = {'STATE':'state'}, inplace = True)"
   ]
  },
  {
   "cell_type": "code",
   "execution_count": 12,
   "id": "cb0e81bd-8347-4b61-840a-6601882e31a6",
   "metadata": {},
   "outputs": [],
   "source": [
    "cust.rename(columns = {'Age':'age'}, inplace = True)"
   ]
  },
  {
   "cell_type": "code",
   "execution_count": 13,
   "id": "a1524078-5d85-456d-83e6-827227d7ca83",
   "metadata": {},
   "outputs": [],
   "source": [
    "cust.rename(columns = {'n_dependants':'num_dependents'}, inplace = True)"
   ]
  },
  {
   "cell_type": "code",
   "execution_count": 14,
   "id": "fd504e60-1219-4424-b4fe-378c1507eaa0",
   "metadata": {},
   "outputs": [
    {
     "data": {
      "text/html": [
       "<div>\n",
       "<style scoped>\n",
       "    .dataframe tbody tr th:only-of-type {\n",
       "        vertical-align: middle;\n",
       "    }\n",
       "\n",
       "    .dataframe tbody tr th {\n",
       "        vertical-align: top;\n",
       "    }\n",
       "\n",
       "    .dataframe thead th {\n",
       "        text-align: right;\n",
       "    }\n",
       "</style>\n",
       "<table border=\"1\" class=\"dataframe\">\n",
       "  <thead>\n",
       "    <tr style=\"text-align: right;\">\n",
       "      <th></th>\n",
       "      <th>user_id</th>\n",
       "      <th>First Name</th>\n",
       "      <th>Surnam</th>\n",
       "      <th>gender</th>\n",
       "      <th>state</th>\n",
       "      <th>age</th>\n",
       "      <th>date_joined</th>\n",
       "      <th>num_dependents</th>\n",
       "      <th>fam_status</th>\n",
       "      <th>income</th>\n",
       "    </tr>\n",
       "  </thead>\n",
       "  <tbody>\n",
       "    <tr>\n",
       "      <th>0</th>\n",
       "      <td>26711</td>\n",
       "      <td>Deborah</td>\n",
       "      <td>Esquivel</td>\n",
       "      <td>Female</td>\n",
       "      <td>Missouri</td>\n",
       "      <td>48</td>\n",
       "      <td>1/1/2017</td>\n",
       "      <td>3</td>\n",
       "      <td>married</td>\n",
       "      <td>165665</td>\n",
       "    </tr>\n",
       "    <tr>\n",
       "      <th>1</th>\n",
       "      <td>33890</td>\n",
       "      <td>Patricia</td>\n",
       "      <td>Hart</td>\n",
       "      <td>Female</td>\n",
       "      <td>New Mexico</td>\n",
       "      <td>36</td>\n",
       "      <td>1/1/2017</td>\n",
       "      <td>0</td>\n",
       "      <td>single</td>\n",
       "      <td>59285</td>\n",
       "    </tr>\n",
       "    <tr>\n",
       "      <th>2</th>\n",
       "      <td>65803</td>\n",
       "      <td>Kenneth</td>\n",
       "      <td>Farley</td>\n",
       "      <td>Male</td>\n",
       "      <td>Idaho</td>\n",
       "      <td>35</td>\n",
       "      <td>1/1/2017</td>\n",
       "      <td>2</td>\n",
       "      <td>married</td>\n",
       "      <td>99568</td>\n",
       "    </tr>\n",
       "    <tr>\n",
       "      <th>3</th>\n",
       "      <td>125935</td>\n",
       "      <td>Michelle</td>\n",
       "      <td>Hicks</td>\n",
       "      <td>Female</td>\n",
       "      <td>Iowa</td>\n",
       "      <td>40</td>\n",
       "      <td>1/1/2017</td>\n",
       "      <td>0</td>\n",
       "      <td>single</td>\n",
       "      <td>42049</td>\n",
       "    </tr>\n",
       "    <tr>\n",
       "      <th>4</th>\n",
       "      <td>130797</td>\n",
       "      <td>Ann</td>\n",
       "      <td>Gilmore</td>\n",
       "      <td>Female</td>\n",
       "      <td>Maryland</td>\n",
       "      <td>26</td>\n",
       "      <td>1/1/2017</td>\n",
       "      <td>1</td>\n",
       "      <td>married</td>\n",
       "      <td>40374</td>\n",
       "    </tr>\n",
       "  </tbody>\n",
       "</table>\n",
       "</div>"
      ],
      "text/plain": [
       "   user_id First Name    Surnam  gender       state  age date_joined  \\\n",
       "0    26711    Deborah  Esquivel  Female    Missouri   48    1/1/2017   \n",
       "1    33890   Patricia      Hart  Female  New Mexico   36    1/1/2017   \n",
       "2    65803    Kenneth    Farley    Male       Idaho   35    1/1/2017   \n",
       "3   125935   Michelle     Hicks  Female        Iowa   40    1/1/2017   \n",
       "4   130797        Ann   Gilmore  Female    Maryland   26    1/1/2017   \n",
       "\n",
       "   num_dependents fam_status  income  \n",
       "0               3    married  165665  \n",
       "1               0     single   59285  \n",
       "2               2    married   99568  \n",
       "3               0     single   42049  \n",
       "4               1    married   40374  "
      ]
     },
     "execution_count": 14,
     "metadata": {},
     "output_type": "execute_result"
    }
   ],
   "source": [
    "cust.head()"
   ]
  },
  {
   "cell_type": "code",
   "execution_count": 15,
   "id": "cfc5a497-bba9-4e1b-a72e-25c084fc1173",
   "metadata": {},
   "outputs": [],
   "source": [
    "# delete columns\n",
    "cust2 = cust.drop(columns = ['First Name', 'Surnam'])"
   ]
  },
  {
   "cell_type": "code",
   "execution_count": 16,
   "id": "54f23c80-f2ce-4791-ac2d-2001834d55c3",
   "metadata": {},
   "outputs": [
    {
     "data": {
      "text/html": [
       "<div>\n",
       "<style scoped>\n",
       "    .dataframe tbody tr th:only-of-type {\n",
       "        vertical-align: middle;\n",
       "    }\n",
       "\n",
       "    .dataframe tbody tr th {\n",
       "        vertical-align: top;\n",
       "    }\n",
       "\n",
       "    .dataframe thead th {\n",
       "        text-align: right;\n",
       "    }\n",
       "</style>\n",
       "<table border=\"1\" class=\"dataframe\">\n",
       "  <thead>\n",
       "    <tr style=\"text-align: right;\">\n",
       "      <th></th>\n",
       "      <th>user_id</th>\n",
       "      <th>gender</th>\n",
       "      <th>state</th>\n",
       "      <th>age</th>\n",
       "      <th>date_joined</th>\n",
       "      <th>num_dependents</th>\n",
       "      <th>fam_status</th>\n",
       "      <th>income</th>\n",
       "    </tr>\n",
       "  </thead>\n",
       "  <tbody>\n",
       "    <tr>\n",
       "      <th>0</th>\n",
       "      <td>26711</td>\n",
       "      <td>Female</td>\n",
       "      <td>Missouri</td>\n",
       "      <td>48</td>\n",
       "      <td>1/1/2017</td>\n",
       "      <td>3</td>\n",
       "      <td>married</td>\n",
       "      <td>165665</td>\n",
       "    </tr>\n",
       "    <tr>\n",
       "      <th>1</th>\n",
       "      <td>33890</td>\n",
       "      <td>Female</td>\n",
       "      <td>New Mexico</td>\n",
       "      <td>36</td>\n",
       "      <td>1/1/2017</td>\n",
       "      <td>0</td>\n",
       "      <td>single</td>\n",
       "      <td>59285</td>\n",
       "    </tr>\n",
       "    <tr>\n",
       "      <th>2</th>\n",
       "      <td>65803</td>\n",
       "      <td>Male</td>\n",
       "      <td>Idaho</td>\n",
       "      <td>35</td>\n",
       "      <td>1/1/2017</td>\n",
       "      <td>2</td>\n",
       "      <td>married</td>\n",
       "      <td>99568</td>\n",
       "    </tr>\n",
       "    <tr>\n",
       "      <th>3</th>\n",
       "      <td>125935</td>\n",
       "      <td>Female</td>\n",
       "      <td>Iowa</td>\n",
       "      <td>40</td>\n",
       "      <td>1/1/2017</td>\n",
       "      <td>0</td>\n",
       "      <td>single</td>\n",
       "      <td>42049</td>\n",
       "    </tr>\n",
       "    <tr>\n",
       "      <th>4</th>\n",
       "      <td>130797</td>\n",
       "      <td>Female</td>\n",
       "      <td>Maryland</td>\n",
       "      <td>26</td>\n",
       "      <td>1/1/2017</td>\n",
       "      <td>1</td>\n",
       "      <td>married</td>\n",
       "      <td>40374</td>\n",
       "    </tr>\n",
       "  </tbody>\n",
       "</table>\n",
       "</div>"
      ],
      "text/plain": [
       "   user_id  gender       state  age date_joined  num_dependents fam_status  \\\n",
       "0    26711  Female    Missouri   48    1/1/2017               3    married   \n",
       "1    33890  Female  New Mexico   36    1/1/2017               0     single   \n",
       "2    65803    Male       Idaho   35    1/1/2017               2    married   \n",
       "3   125935  Female        Iowa   40    1/1/2017               0     single   \n",
       "4   130797  Female    Maryland   26    1/1/2017               1    married   \n",
       "\n",
       "   income  \n",
       "0  165665  \n",
       "1   59285  \n",
       "2   99568  \n",
       "3   42049  \n",
       "4   40374  "
      ]
     },
     "execution_count": 16,
     "metadata": {},
     "output_type": "execute_result"
    }
   ],
   "source": [
    "cust2.head()"
   ]
  },
  {
   "cell_type": "code",
   "execution_count": 17,
   "id": "3b9fb911-1fd9-461d-8d03-256ea167e8e1",
   "metadata": {},
   "outputs": [
    {
     "data": {
      "text/plain": [
       "26711     1\n",
       "67322     1\n",
       "173044    1\n",
       "61044     1\n",
       "98344     1\n",
       "         ..\n",
       "146847    1\n",
       "154991    1\n",
       "172193    1\n",
       "184326    1\n",
       "80148     1\n",
       "Name: user_id, Length: 206209, dtype: int64"
      ]
     },
     "execution_count": 17,
     "metadata": {},
     "output_type": "execute_result"
    }
   ],
   "source": [
    "# check for missing values\n",
    "cust2['user_id'].value_counts(dropna = False)"
   ]
  },
  {
   "cell_type": "code",
   "execution_count": 18,
   "id": "020005a1-96f4-4ffd-880e-628c95b0eb46",
   "metadata": {},
   "outputs": [
    {
     "data": {
      "text/plain": [
       "Male      104067\n",
       "Female    102142\n",
       "Name: gender, dtype: int64"
      ]
     },
     "execution_count": 18,
     "metadata": {},
     "output_type": "execute_result"
    }
   ],
   "source": [
    "cust2['gender'].value_counts(dropna = False)"
   ]
  },
  {
   "cell_type": "code",
   "execution_count": 19,
   "id": "f05efb7c-5cbd-42a6-9204-921746e43a09",
   "metadata": {},
   "outputs": [
    {
     "data": {
      "text/plain": [
       "Florida                 4044\n",
       "Colorado                4044\n",
       "Illinois                4044\n",
       "Alabama                 4044\n",
       "District of Columbia    4044\n",
       "Hawaii                  4044\n",
       "Arizona                 4044\n",
       "Connecticut             4044\n",
       "California              4044\n",
       "Indiana                 4044\n",
       "Arkansas                4044\n",
       "Alaska                  4044\n",
       "Delaware                4044\n",
       "Iowa                    4044\n",
       "Idaho                   4044\n",
       "Georgia                 4044\n",
       "Wyoming                 4043\n",
       "Mississippi             4043\n",
       "Oklahoma                4043\n",
       "Utah                    4043\n",
       "New Hampshire           4043\n",
       "Kentucky                4043\n",
       "Maryland                4043\n",
       "Rhode Island            4043\n",
       "Massachusetts           4043\n",
       "Michigan                4043\n",
       "New Jersey              4043\n",
       "Kansas                  4043\n",
       "South Dakota            4043\n",
       "Minnesota               4043\n",
       "Tennessee               4043\n",
       "New York                4043\n",
       "Washington              4043\n",
       "Louisiana               4043\n",
       "Montana                 4043\n",
       "North Dakota            4043\n",
       "Wisconsin               4043\n",
       "Nebraska                4043\n",
       "Vermont                 4043\n",
       "Nevada                  4043\n",
       "Maine                   4043\n",
       "North Carolina          4043\n",
       "West Virginia           4043\n",
       "Virginia                4043\n",
       "Oregon                  4043\n",
       "New Mexico              4043\n",
       "Texas                   4043\n",
       "Pennsylvania            4043\n",
       "Ohio                    4043\n",
       "South Carolina          4043\n",
       "Missouri                4043\n",
       "Name: state, dtype: int64"
      ]
     },
     "execution_count": 19,
     "metadata": {},
     "output_type": "execute_result"
    }
   ],
   "source": [
    "cust2['state'].value_counts(dropna = False)"
   ]
  },
  {
   "cell_type": "code",
   "execution_count": 20,
   "id": "2fe165d8-6d3a-48aa-a8ec-12db57245f03",
   "metadata": {},
   "outputs": [
    {
     "data": {
      "text/plain": [
       "19    3329\n",
       "55    3317\n",
       "51    3317\n",
       "56    3306\n",
       "32    3305\n",
       "      ... \n",
       "65    3145\n",
       "25    3127\n",
       "66    3114\n",
       "50    3102\n",
       "36    3101\n",
       "Name: age, Length: 64, dtype: int64"
      ]
     },
     "execution_count": 20,
     "metadata": {},
     "output_type": "execute_result"
    }
   ],
   "source": [
    "cust2['age'].value_counts(dropna = False)"
   ]
  },
  {
   "cell_type": "code",
   "execution_count": 21,
   "id": "972c4460-6fb0-41f2-9a5b-02105255f76c",
   "metadata": {},
   "outputs": [
    {
     "data": {
      "text/plain": [
       "9/17/2018     213\n",
       "2/10/2018     212\n",
       "4/1/2019      211\n",
       "9/21/2019     211\n",
       "12/19/2017    210\n",
       "             ... \n",
       "9/1/2018      141\n",
       "1/22/2018     140\n",
       "11/24/2017    139\n",
       "7/18/2019     138\n",
       "8/6/2018      128\n",
       "Name: date_joined, Length: 1187, dtype: int64"
      ]
     },
     "execution_count": 21,
     "metadata": {},
     "output_type": "execute_result"
    }
   ],
   "source": [
    "cust2['date_joined'].value_counts(dropna = False)"
   ]
  },
  {
   "cell_type": "code",
   "execution_count": 22,
   "id": "dfc22a36-d728-43b0-941f-a56812cccb62",
   "metadata": {},
   "outputs": [
    {
     "data": {
      "text/plain": [
       "0    51602\n",
       "3    51594\n",
       "1    51531\n",
       "2    51482\n",
       "Name: num_dependents, dtype: int64"
      ]
     },
     "execution_count": 22,
     "metadata": {},
     "output_type": "execute_result"
    }
   ],
   "source": [
    "cust2['num_dependents'].value_counts(dropna = False)"
   ]
  },
  {
   "cell_type": "code",
   "execution_count": 23,
   "id": "4d731abf-d7fd-45b2-a56d-12707d3f1935",
   "metadata": {},
   "outputs": [
    {
     "data": {
      "text/plain": [
       "married                             144906\n",
       "single                               33962\n",
       "divorced/widowed                     17640\n",
       "living with parents and siblings      9701\n",
       "Name: fam_status, dtype: int64"
      ]
     },
     "execution_count": 23,
     "metadata": {},
     "output_type": "execute_result"
    }
   ],
   "source": [
    "cust2['fam_status'].value_counts(dropna = False)"
   ]
  },
  {
   "cell_type": "code",
   "execution_count": 24,
   "id": "5e07dcae-76b4-4cf6-93fe-f0409142a2a4",
   "metadata": {},
   "outputs": [
    {
     "data": {
      "text/plain": [
       "57192     10\n",
       "95891     10\n",
       "95710     10\n",
       "97532      9\n",
       "98675      9\n",
       "          ..\n",
       "73141      1\n",
       "71524      1\n",
       "74408      1\n",
       "44780      1\n",
       "148828     1\n",
       "Name: income, Length: 108012, dtype: int64"
      ]
     },
     "execution_count": 24,
     "metadata": {},
     "output_type": "execute_result"
    }
   ],
   "source": [
    "cust2['income'].value_counts(dropna = False)"
   ]
  },
  {
   "cell_type": "code",
   "execution_count": 25,
   "id": "21e231b7-b82a-47e3-8ca8-58cacec4fd35",
   "metadata": {},
   "outputs": [
    {
     "data": {
      "text/plain": [
       "user_id           0\n",
       "gender            0\n",
       "state             0\n",
       "age               0\n",
       "date_joined       0\n",
       "num_dependents    0\n",
       "fam_status        0\n",
       "income            0\n",
       "dtype: int64"
      ]
     },
     "execution_count": 25,
     "metadata": {},
     "output_type": "execute_result"
    }
   ],
   "source": [
    "# check for missing values\n",
    "cust2.isnull().sum()"
   ]
  },
  {
   "cell_type": "code",
   "execution_count": 26,
   "id": "588235cc-8be4-4576-bbed-e969dc1112e7",
   "metadata": {},
   "outputs": [],
   "source": [
    "# check for duplicates\n",
    "cust_dups = cust2[cust2.duplicated()]"
   ]
  },
  {
   "cell_type": "code",
   "execution_count": 27,
   "id": "e35b7520-5f9c-4772-8f24-f0821b587ce0",
   "metadata": {},
   "outputs": [
    {
     "data": {
      "text/html": [
       "<div>\n",
       "<style scoped>\n",
       "    .dataframe tbody tr th:only-of-type {\n",
       "        vertical-align: middle;\n",
       "    }\n",
       "\n",
       "    .dataframe tbody tr th {\n",
       "        vertical-align: top;\n",
       "    }\n",
       "\n",
       "    .dataframe thead th {\n",
       "        text-align: right;\n",
       "    }\n",
       "</style>\n",
       "<table border=\"1\" class=\"dataframe\">\n",
       "  <thead>\n",
       "    <tr style=\"text-align: right;\">\n",
       "      <th></th>\n",
       "      <th>user_id</th>\n",
       "      <th>gender</th>\n",
       "      <th>state</th>\n",
       "      <th>age</th>\n",
       "      <th>date_joined</th>\n",
       "      <th>num_dependents</th>\n",
       "      <th>fam_status</th>\n",
       "      <th>income</th>\n",
       "    </tr>\n",
       "  </thead>\n",
       "  <tbody>\n",
       "  </tbody>\n",
       "</table>\n",
       "</div>"
      ],
      "text/plain": [
       "Empty DataFrame\n",
       "Columns: [user_id, gender, state, age, date_joined, num_dependents, fam_status, income]\n",
       "Index: []"
      ]
     },
     "execution_count": 27,
     "metadata": {},
     "output_type": "execute_result"
    }
   ],
   "source": [
    "cust_dups"
   ]
  },
  {
   "cell_type": "markdown",
   "id": "f5883fe2-49b2-4034-bca0-71a566da6808",
   "metadata": {},
   "source": [
    "### Merge cust data with ords_prods"
   ]
  },
  {
   "cell_type": "code",
   "execution_count": 29,
   "id": "77ca7cf3-af45-4308-917a-f223a0f84d77",
   "metadata": {},
   "outputs": [
    {
     "data": {
      "text/plain": [
       "(32404859, 26)"
      ]
     },
     "execution_count": 29,
     "metadata": {},
     "output_type": "execute_result"
    }
   ],
   "source": [
    "ords_prods.shape"
   ]
  },
  {
   "cell_type": "code",
   "execution_count": 30,
   "id": "0aa21e17-7f92-48a6-afaa-156b033b7d77",
   "metadata": {},
   "outputs": [
    {
     "data": {
      "text/plain": [
       "(206209, 8)"
      ]
     },
     "execution_count": 30,
     "metadata": {},
     "output_type": "execute_result"
    }
   ],
   "source": [
    "cust2.shape"
   ]
  },
  {
   "cell_type": "code",
   "execution_count": 31,
   "id": "67f624c8-623e-4b77-8df0-18554cfd7b9f",
   "metadata": {},
   "outputs": [
    {
     "data": {
      "text/html": [
       "<div>\n",
       "<style scoped>\n",
       "    .dataframe tbody tr th:only-of-type {\n",
       "        vertical-align: middle;\n",
       "    }\n",
       "\n",
       "    .dataframe tbody tr th {\n",
       "        vertical-align: top;\n",
       "    }\n",
       "\n",
       "    .dataframe thead th {\n",
       "        text-align: right;\n",
       "    }\n",
       "</style>\n",
       "<table border=\"1\" class=\"dataframe\">\n",
       "  <thead>\n",
       "    <tr style=\"text-align: right;\">\n",
       "      <th></th>\n",
       "      <th>Unnamed: 0_x</th>\n",
       "      <th>product_id</th>\n",
       "      <th>product_name</th>\n",
       "      <th>aisle_id</th>\n",
       "      <th>department_id</th>\n",
       "      <th>prices</th>\n",
       "      <th>Unnamed: 0.1</th>\n",
       "      <th>Unnamed: 0_y</th>\n",
       "      <th>order_id</th>\n",
       "      <th>user_id</th>\n",
       "      <th>...</th>\n",
       "      <th>reordered</th>\n",
       "      <th>_merge</th>\n",
       "      <th>price_range_loc</th>\n",
       "      <th>busiest_days</th>\n",
       "      <th>busiest_period_of_day</th>\n",
       "      <th>max_order</th>\n",
       "      <th>loyalty_flag</th>\n",
       "      <th>spender_type</th>\n",
       "      <th>order_frequency</th>\n",
       "      <th>frequency_flag</th>\n",
       "    </tr>\n",
       "  </thead>\n",
       "  <tbody>\n",
       "    <tr>\n",
       "      <th>0</th>\n",
       "      <td>0</td>\n",
       "      <td>1</td>\n",
       "      <td>Chocolate Sandwich Cookies</td>\n",
       "      <td>61</td>\n",
       "      <td>19</td>\n",
       "      <td>5.8</td>\n",
       "      <td>1987</td>\n",
       "      <td>1987</td>\n",
       "      <td>3139998</td>\n",
       "      <td>138</td>\n",
       "      <td>...</td>\n",
       "      <td>0</td>\n",
       "      <td>both</td>\n",
       "      <td>Mid-range product</td>\n",
       "      <td>Regularly busy</td>\n",
       "      <td>Most orders</td>\n",
       "      <td>32</td>\n",
       "      <td>Regular customer</td>\n",
       "      <td>Low spender</td>\n",
       "      <td>8.0</td>\n",
       "      <td>Frequent customer</td>\n",
       "    </tr>\n",
       "    <tr>\n",
       "      <th>1</th>\n",
       "      <td>0</td>\n",
       "      <td>1</td>\n",
       "      <td>Chocolate Sandwich Cookies</td>\n",
       "      <td>61</td>\n",
       "      <td>19</td>\n",
       "      <td>5.8</td>\n",
       "      <td>1989</td>\n",
       "      <td>1989</td>\n",
       "      <td>1977647</td>\n",
       "      <td>138</td>\n",
       "      <td>...</td>\n",
       "      <td>1</td>\n",
       "      <td>both</td>\n",
       "      <td>Mid-range product</td>\n",
       "      <td>Regularly busy</td>\n",
       "      <td>Average orders</td>\n",
       "      <td>32</td>\n",
       "      <td>Regular customer</td>\n",
       "      <td>Low spender</td>\n",
       "      <td>8.0</td>\n",
       "      <td>Frequent customer</td>\n",
       "    </tr>\n",
       "    <tr>\n",
       "      <th>2</th>\n",
       "      <td>0</td>\n",
       "      <td>1</td>\n",
       "      <td>Chocolate Sandwich Cookies</td>\n",
       "      <td>61</td>\n",
       "      <td>19</td>\n",
       "      <td>5.8</td>\n",
       "      <td>11433</td>\n",
       "      <td>11433</td>\n",
       "      <td>389851</td>\n",
       "      <td>709</td>\n",
       "      <td>...</td>\n",
       "      <td>0</td>\n",
       "      <td>both</td>\n",
       "      <td>Mid-range product</td>\n",
       "      <td>Busiest day</td>\n",
       "      <td>Average orders</td>\n",
       "      <td>5</td>\n",
       "      <td>New customer</td>\n",
       "      <td>Low spender</td>\n",
       "      <td>8.0</td>\n",
       "      <td>Frequent customer</td>\n",
       "    </tr>\n",
       "    <tr>\n",
       "      <th>3</th>\n",
       "      <td>0</td>\n",
       "      <td>1</td>\n",
       "      <td>Chocolate Sandwich Cookies</td>\n",
       "      <td>61</td>\n",
       "      <td>19</td>\n",
       "      <td>5.8</td>\n",
       "      <td>12198</td>\n",
       "      <td>12198</td>\n",
       "      <td>652770</td>\n",
       "      <td>764</td>\n",
       "      <td>...</td>\n",
       "      <td>0</td>\n",
       "      <td>both</td>\n",
       "      <td>Mid-range product</td>\n",
       "      <td>Least busy</td>\n",
       "      <td>Most orders</td>\n",
       "      <td>3</td>\n",
       "      <td>New customer</td>\n",
       "      <td>Low spender</td>\n",
       "      <td>9.0</td>\n",
       "      <td>Frequent customer</td>\n",
       "    </tr>\n",
       "    <tr>\n",
       "      <th>4</th>\n",
       "      <td>0</td>\n",
       "      <td>1</td>\n",
       "      <td>Chocolate Sandwich Cookies</td>\n",
       "      <td>61</td>\n",
       "      <td>19</td>\n",
       "      <td>5.8</td>\n",
       "      <td>12200</td>\n",
       "      <td>12200</td>\n",
       "      <td>1813452</td>\n",
       "      <td>764</td>\n",
       "      <td>...</td>\n",
       "      <td>1</td>\n",
       "      <td>both</td>\n",
       "      <td>Mid-range product</td>\n",
       "      <td>Regularly busy</td>\n",
       "      <td>Average orders</td>\n",
       "      <td>3</td>\n",
       "      <td>New customer</td>\n",
       "      <td>Low spender</td>\n",
       "      <td>9.0</td>\n",
       "      <td>Frequent customer</td>\n",
       "    </tr>\n",
       "  </tbody>\n",
       "</table>\n",
       "<p>5 rows × 26 columns</p>\n",
       "</div>"
      ],
      "text/plain": [
       "   Unnamed: 0_x  product_id                product_name  aisle_id  \\\n",
       "0             0           1  Chocolate Sandwich Cookies        61   \n",
       "1             0           1  Chocolate Sandwich Cookies        61   \n",
       "2             0           1  Chocolate Sandwich Cookies        61   \n",
       "3             0           1  Chocolate Sandwich Cookies        61   \n",
       "4             0           1  Chocolate Sandwich Cookies        61   \n",
       "\n",
       "   department_id  prices  Unnamed: 0.1  Unnamed: 0_y  order_id  user_id  ...  \\\n",
       "0             19     5.8          1987          1987   3139998      138  ...   \n",
       "1             19     5.8          1989          1989   1977647      138  ...   \n",
       "2             19     5.8         11433         11433    389851      709  ...   \n",
       "3             19     5.8         12198         12198    652770      764  ...   \n",
       "4             19     5.8         12200         12200   1813452      764  ...   \n",
       "\n",
       "   reordered  _merge    price_range_loc    busiest_days  \\\n",
       "0          0    both  Mid-range product  Regularly busy   \n",
       "1          1    both  Mid-range product  Regularly busy   \n",
       "2          0    both  Mid-range product     Busiest day   \n",
       "3          0    both  Mid-range product      Least busy   \n",
       "4          1    both  Mid-range product  Regularly busy   \n",
       "\n",
       "   busiest_period_of_day  max_order      loyalty_flag spender_type  \\\n",
       "0            Most orders         32  Regular customer  Low spender   \n",
       "1         Average orders         32  Regular customer  Low spender   \n",
       "2         Average orders          5      New customer  Low spender   \n",
       "3            Most orders          3      New customer  Low spender   \n",
       "4         Average orders          3      New customer  Low spender   \n",
       "\n",
       "  order_frequency     frequency_flag  \n",
       "0             8.0  Frequent customer  \n",
       "1             8.0  Frequent customer  \n",
       "2             8.0  Frequent customer  \n",
       "3             9.0  Frequent customer  \n",
       "4             9.0  Frequent customer  \n",
       "\n",
       "[5 rows x 26 columns]"
      ]
     },
     "execution_count": 31,
     "metadata": {},
     "output_type": "execute_result"
    }
   ],
   "source": [
    "ords_prods.head()"
   ]
  },
  {
   "cell_type": "code",
   "execution_count": 32,
   "id": "2d133225-eadb-4e13-b107-78c2fea27d8f",
   "metadata": {},
   "outputs": [
    {
     "data": {
      "text/html": [
       "<div>\n",
       "<style scoped>\n",
       "    .dataframe tbody tr th:only-of-type {\n",
       "        vertical-align: middle;\n",
       "    }\n",
       "\n",
       "    .dataframe tbody tr th {\n",
       "        vertical-align: top;\n",
       "    }\n",
       "\n",
       "    .dataframe thead th {\n",
       "        text-align: right;\n",
       "    }\n",
       "</style>\n",
       "<table border=\"1\" class=\"dataframe\">\n",
       "  <thead>\n",
       "    <tr style=\"text-align: right;\">\n",
       "      <th></th>\n",
       "      <th>user_id</th>\n",
       "      <th>gender</th>\n",
       "      <th>state</th>\n",
       "      <th>age</th>\n",
       "      <th>date_joined</th>\n",
       "      <th>num_dependents</th>\n",
       "      <th>fam_status</th>\n",
       "      <th>income</th>\n",
       "    </tr>\n",
       "  </thead>\n",
       "  <tbody>\n",
       "    <tr>\n",
       "      <th>0</th>\n",
       "      <td>26711</td>\n",
       "      <td>Female</td>\n",
       "      <td>Missouri</td>\n",
       "      <td>48</td>\n",
       "      <td>1/1/2017</td>\n",
       "      <td>3</td>\n",
       "      <td>married</td>\n",
       "      <td>165665</td>\n",
       "    </tr>\n",
       "    <tr>\n",
       "      <th>1</th>\n",
       "      <td>33890</td>\n",
       "      <td>Female</td>\n",
       "      <td>New Mexico</td>\n",
       "      <td>36</td>\n",
       "      <td>1/1/2017</td>\n",
       "      <td>0</td>\n",
       "      <td>single</td>\n",
       "      <td>59285</td>\n",
       "    </tr>\n",
       "    <tr>\n",
       "      <th>2</th>\n",
       "      <td>65803</td>\n",
       "      <td>Male</td>\n",
       "      <td>Idaho</td>\n",
       "      <td>35</td>\n",
       "      <td>1/1/2017</td>\n",
       "      <td>2</td>\n",
       "      <td>married</td>\n",
       "      <td>99568</td>\n",
       "    </tr>\n",
       "    <tr>\n",
       "      <th>3</th>\n",
       "      <td>125935</td>\n",
       "      <td>Female</td>\n",
       "      <td>Iowa</td>\n",
       "      <td>40</td>\n",
       "      <td>1/1/2017</td>\n",
       "      <td>0</td>\n",
       "      <td>single</td>\n",
       "      <td>42049</td>\n",
       "    </tr>\n",
       "    <tr>\n",
       "      <th>4</th>\n",
       "      <td>130797</td>\n",
       "      <td>Female</td>\n",
       "      <td>Maryland</td>\n",
       "      <td>26</td>\n",
       "      <td>1/1/2017</td>\n",
       "      <td>1</td>\n",
       "      <td>married</td>\n",
       "      <td>40374</td>\n",
       "    </tr>\n",
       "  </tbody>\n",
       "</table>\n",
       "</div>"
      ],
      "text/plain": [
       "   user_id  gender       state  age date_joined  num_dependents fam_status  \\\n",
       "0    26711  Female    Missouri   48    1/1/2017               3    married   \n",
       "1    33890  Female  New Mexico   36    1/1/2017               0     single   \n",
       "2    65803    Male       Idaho   35    1/1/2017               2    married   \n",
       "3   125935  Female        Iowa   40    1/1/2017               0     single   \n",
       "4   130797  Female    Maryland   26    1/1/2017               1    married   \n",
       "\n",
       "   income  \n",
       "0  165665  \n",
       "1   59285  \n",
       "2   99568  \n",
       "3   42049  \n",
       "4   40374  "
      ]
     },
     "execution_count": 32,
     "metadata": {},
     "output_type": "execute_result"
    }
   ],
   "source": [
    "cust2.head()"
   ]
  },
  {
   "cell_type": "markdown",
   "id": "86e5f8b2-df32-47a5-9d51-31fc0ea55e60",
   "metadata": {},
   "source": [
    "use user_id as common key"
   ]
  },
  {
   "cell_type": "code",
   "execution_count": 33,
   "id": "b8b0a3fe-e176-415f-b126-b35a29daf795",
   "metadata": {},
   "outputs": [],
   "source": [
    "cust_ords_prods = ords_prods.merge(cust2, on = 'user_id')"
   ]
  },
  {
   "cell_type": "code",
   "execution_count": 35,
   "id": "9113b4d1-5477-4f41-b973-d535a9728df2",
   "metadata": {},
   "outputs": [
    {
     "data": {
      "text/plain": [
       "(32404859, 33)"
      ]
     },
     "execution_count": 35,
     "metadata": {},
     "output_type": "execute_result"
    }
   ],
   "source": [
    "cust_ords_prods.shape"
   ]
  },
  {
   "cell_type": "code",
   "execution_count": 36,
   "id": "88c5e8fe-a66c-4591-ad24-9158c10b87d9",
   "metadata": {},
   "outputs": [
    {
     "data": {
      "text/html": [
       "<div>\n",
       "<style scoped>\n",
       "    .dataframe tbody tr th:only-of-type {\n",
       "        vertical-align: middle;\n",
       "    }\n",
       "\n",
       "    .dataframe tbody tr th {\n",
       "        vertical-align: top;\n",
       "    }\n",
       "\n",
       "    .dataframe thead th {\n",
       "        text-align: right;\n",
       "    }\n",
       "</style>\n",
       "<table border=\"1\" class=\"dataframe\">\n",
       "  <thead>\n",
       "    <tr style=\"text-align: right;\">\n",
       "      <th></th>\n",
       "      <th>Unnamed: 0_x</th>\n",
       "      <th>product_id</th>\n",
       "      <th>product_name</th>\n",
       "      <th>aisle_id</th>\n",
       "      <th>department_id</th>\n",
       "      <th>prices</th>\n",
       "      <th>Unnamed: 0.1</th>\n",
       "      <th>Unnamed: 0_y</th>\n",
       "      <th>order_id</th>\n",
       "      <th>user_id</th>\n",
       "      <th>...</th>\n",
       "      <th>spender_type</th>\n",
       "      <th>order_frequency</th>\n",
       "      <th>frequency_flag</th>\n",
       "      <th>gender</th>\n",
       "      <th>state</th>\n",
       "      <th>age</th>\n",
       "      <th>date_joined</th>\n",
       "      <th>num_dependents</th>\n",
       "      <th>fam_status</th>\n",
       "      <th>income</th>\n",
       "    </tr>\n",
       "  </thead>\n",
       "  <tbody>\n",
       "    <tr>\n",
       "      <th>0</th>\n",
       "      <td>0</td>\n",
       "      <td>1</td>\n",
       "      <td>Chocolate Sandwich Cookies</td>\n",
       "      <td>61</td>\n",
       "      <td>19</td>\n",
       "      <td>5.8</td>\n",
       "      <td>1987</td>\n",
       "      <td>1987</td>\n",
       "      <td>3139998</td>\n",
       "      <td>138</td>\n",
       "      <td>...</td>\n",
       "      <td>Low spender</td>\n",
       "      <td>8.0</td>\n",
       "      <td>Frequent customer</td>\n",
       "      <td>Male</td>\n",
       "      <td>Minnesota</td>\n",
       "      <td>81</td>\n",
       "      <td>8/1/2019</td>\n",
       "      <td>1</td>\n",
       "      <td>married</td>\n",
       "      <td>49620</td>\n",
       "    </tr>\n",
       "    <tr>\n",
       "      <th>1</th>\n",
       "      <td>0</td>\n",
       "      <td>1</td>\n",
       "      <td>Chocolate Sandwich Cookies</td>\n",
       "      <td>61</td>\n",
       "      <td>19</td>\n",
       "      <td>5.8</td>\n",
       "      <td>1989</td>\n",
       "      <td>1989</td>\n",
       "      <td>1977647</td>\n",
       "      <td>138</td>\n",
       "      <td>...</td>\n",
       "      <td>Low spender</td>\n",
       "      <td>8.0</td>\n",
       "      <td>Frequent customer</td>\n",
       "      <td>Male</td>\n",
       "      <td>Minnesota</td>\n",
       "      <td>81</td>\n",
       "      <td>8/1/2019</td>\n",
       "      <td>1</td>\n",
       "      <td>married</td>\n",
       "      <td>49620</td>\n",
       "    </tr>\n",
       "    <tr>\n",
       "      <th>2</th>\n",
       "      <td>907</td>\n",
       "      <td>907</td>\n",
       "      <td>Premium Sliced Bacon</td>\n",
       "      <td>106</td>\n",
       "      <td>12</td>\n",
       "      <td>20.0</td>\n",
       "      <td>1960</td>\n",
       "      <td>1960</td>\n",
       "      <td>3160996</td>\n",
       "      <td>138</td>\n",
       "      <td>...</td>\n",
       "      <td>High spender</td>\n",
       "      <td>8.0</td>\n",
       "      <td>Frequent customer</td>\n",
       "      <td>Male</td>\n",
       "      <td>Minnesota</td>\n",
       "      <td>81</td>\n",
       "      <td>8/1/2019</td>\n",
       "      <td>1</td>\n",
       "      <td>married</td>\n",
       "      <td>49620</td>\n",
       "    </tr>\n",
       "    <tr>\n",
       "      <th>3</th>\n",
       "      <td>907</td>\n",
       "      <td>907</td>\n",
       "      <td>Premium Sliced Bacon</td>\n",
       "      <td>106</td>\n",
       "      <td>12</td>\n",
       "      <td>20.0</td>\n",
       "      <td>1969</td>\n",
       "      <td>1969</td>\n",
       "      <td>2254091</td>\n",
       "      <td>138</td>\n",
       "      <td>...</td>\n",
       "      <td>High spender</td>\n",
       "      <td>8.0</td>\n",
       "      <td>Frequent customer</td>\n",
       "      <td>Male</td>\n",
       "      <td>Minnesota</td>\n",
       "      <td>81</td>\n",
       "      <td>8/1/2019</td>\n",
       "      <td>1</td>\n",
       "      <td>married</td>\n",
       "      <td>49620</td>\n",
       "    </tr>\n",
       "    <tr>\n",
       "      <th>4</th>\n",
       "      <td>1000</td>\n",
       "      <td>1000</td>\n",
       "      <td>Apricots</td>\n",
       "      <td>18</td>\n",
       "      <td>10</td>\n",
       "      <td>12.9</td>\n",
       "      <td>1968</td>\n",
       "      <td>1968</td>\n",
       "      <td>505689</td>\n",
       "      <td>138</td>\n",
       "      <td>...</td>\n",
       "      <td>High spender</td>\n",
       "      <td>8.0</td>\n",
       "      <td>Frequent customer</td>\n",
       "      <td>Male</td>\n",
       "      <td>Minnesota</td>\n",
       "      <td>81</td>\n",
       "      <td>8/1/2019</td>\n",
       "      <td>1</td>\n",
       "      <td>married</td>\n",
       "      <td>49620</td>\n",
       "    </tr>\n",
       "  </tbody>\n",
       "</table>\n",
       "<p>5 rows × 33 columns</p>\n",
       "</div>"
      ],
      "text/plain": [
       "   Unnamed: 0_x  product_id                product_name  aisle_id  \\\n",
       "0             0           1  Chocolate Sandwich Cookies        61   \n",
       "1             0           1  Chocolate Sandwich Cookies        61   \n",
       "2           907         907        Premium Sliced Bacon       106   \n",
       "3           907         907        Premium Sliced Bacon       106   \n",
       "4          1000        1000                    Apricots        18   \n",
       "\n",
       "   department_id  prices  Unnamed: 0.1  Unnamed: 0_y  order_id  user_id  ...  \\\n",
       "0             19     5.8          1987          1987   3139998      138  ...   \n",
       "1             19     5.8          1989          1989   1977647      138  ...   \n",
       "2             12    20.0          1960          1960   3160996      138  ...   \n",
       "3             12    20.0          1969          1969   2254091      138  ...   \n",
       "4             10    12.9          1968          1968    505689      138  ...   \n",
       "\n",
       "   spender_type  order_frequency     frequency_flag  gender      state  age  \\\n",
       "0   Low spender              8.0  Frequent customer    Male  Minnesota   81   \n",
       "1   Low spender              8.0  Frequent customer    Male  Minnesota   81   \n",
       "2  High spender              8.0  Frequent customer    Male  Minnesota   81   \n",
       "3  High spender              8.0  Frequent customer    Male  Minnesota   81   \n",
       "4  High spender              8.0  Frequent customer    Male  Minnesota   81   \n",
       "\n",
       "   date_joined num_dependents fam_status income  \n",
       "0     8/1/2019              1    married  49620  \n",
       "1     8/1/2019              1    married  49620  \n",
       "2     8/1/2019              1    married  49620  \n",
       "3     8/1/2019              1    married  49620  \n",
       "4     8/1/2019              1    married  49620  \n",
       "\n",
       "[5 rows x 33 columns]"
      ]
     },
     "execution_count": 36,
     "metadata": {},
     "output_type": "execute_result"
    }
   ],
   "source": [
    "cust_ords_prods.head()"
   ]
  },
  {
   "cell_type": "markdown",
   "id": "51768709-1b1a-4a85-be25-f5b7de48806a",
   "metadata": {},
   "source": [
    "### Export data"
   ]
  },
  {
   "cell_type": "code",
   "execution_count": 37,
   "id": "707c4739-757b-4e36-adb3-c2f449379e27",
   "metadata": {},
   "outputs": [],
   "source": [
    "# export merged dataframe in pickle format\n",
    "cust_ords_prods.to_pickle(os.path.join(path, '02 Data', 'Prepared Data', 'final_merged_data.pkl'))"
   ]
  },
  {
   "cell_type": "code",
   "execution_count": null,
   "id": "34c9fc9c-6ff7-45b3-a86e-e6132f5371fd",
   "metadata": {},
   "outputs": [],
   "source": []
  }
 ],
 "metadata": {
  "kernelspec": {
   "display_name": "Python 3 (ipykernel)",
   "language": "python",
   "name": "python3"
  },
  "language_info": {
   "codemirror_mode": {
    "name": "ipython",
    "version": 3
   },
   "file_extension": ".py",
   "mimetype": "text/x-python",
   "name": "python",
   "nbconvert_exporter": "python",
   "pygments_lexer": "ipython3",
   "version": "3.10.9"
  }
 },
 "nbformat": 4,
 "nbformat_minor": 5
}
